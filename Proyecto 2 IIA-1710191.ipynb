{
 "cells": [
  {
   "cell_type": "markdown",
   "metadata": {},
   "source": [
    "# Proyecto 2 - INTRODUCCIÓN A LA INTELIGENCIA ARTIFICIAL"
   ]
  },
  {
   "cell_type": "markdown",
   "metadata": {},
   "source": [
    "Estudiante: Juan Gabriel Rodriguez\n",
    "\n",
    "Código: 201710191\n"
   ]
  },
  {
   "cell_type": "markdown",
   "metadata": {},
   "source": [
    "# 1. Librearias"
   ]
  },
  {
   "cell_type": "code",
   "execution_count": 1,
   "metadata": {},
   "outputs": [
    {
     "name": "stderr",
     "output_type": "stream",
     "text": [
      "Using TensorFlow backend.\n"
     ]
    }
   ],
   "source": [
    "# Descomentar en caso de No tener instaladas las librerias\n",
    "#!conda install -c conda-forge ipywidgets -y\n",
    "#!conda install -c anaconda graphviz python-graphviz -y\n",
    "#!conda install -c conda-forge keras -y\n",
    "#!conda install -c anaconda pydot -y\n",
    "#!conda install -c anaconda seaborn -y\n",
    "\n",
    "import matplotlib\n",
    "from matplotlib import colors\n",
    "from sklearn.tree import DecisionTreeClassifier\n",
    "from sklearn.tree import export_graphviz \n",
    "from sklearn.neural_network import MLPClassifier\n",
    "\n",
    "# importando el modulo numpy\n",
    "import numpy as np\n",
    "\n",
    "# importando el modulo pandas\n",
    "import pandas as pd\n",
    "\n",
    "# importando el modulo regexp\n",
    "import re\n",
    "\n",
    "# importando el modulo matplotlib\n",
    "import matplotlib.pyplot as plt\n",
    "\n",
    "#  importando el modulo train_test_split de sklearn.model_selection\n",
    "from sklearn.model_selection import train_test_split\n",
    "\n",
    "#  importando el modulo tree de sklearn\n",
    "from sklearn import tree\n",
    "\n",
    "#  importando el modulo GaussianNB de sklearn.naive_bayes\n",
    "from sklearn.naive_bayes import GaussianNB\n",
    "\n",
    "#  importando los modulos confusion_matrix, accuracy_score de sklearn.metrics\n",
    "from sklearn.metrics import confusion_matrix, accuracy_score\n",
    "\n",
    "# importando los modulos SVG, display de IPython.display\n",
    "from IPython.display import SVG, display\n",
    "\n",
    "# importando el modulo Source de graphviz\n",
    "from graphviz import Source\n",
    "\n",
    "# importando el modulo StandardScaler de sklearn.preprocessing\n",
    "from sklearn.preprocessing import StandardScaler\n",
    "\n",
    "# importando el modulo sns de seaborn\n",
    "import seaborn as sns\n",
    "\n",
    "# importando los modulos Activation, Flatten de keras.layers\n",
    "from keras.layers import Activation, Flatten\n"
   ]
  },
  {
   "cell_type": "markdown",
   "metadata": {},
   "source": [
    "# 1. Descripción de  los datos heart"
   ]
  },
  {
   "cell_type": "markdown",
   "metadata": {},
   "source": [
    "| id | Variable | Descripción                                                             |\n",
    "|:-- |:--       | :--                                                                     |\n",
    "|1.  | age      | Edad de las personas en años                                            |\n",
    "|2.  | sex      | Sexo de las personas<br/>0 = mujer<br/>1 = hombre                       |\n",
    "|3.  | cp       | Dolor en el Pecho experimentado<br/>0: angina típica<br/>1: angina atipica<br/>2: sin dolor anginal<br/>3: asintomatico                                      |\n",
    "|4.  | trestbps | presión arterial en reposo de la persona (mm Hg al ingreso al hospital) |\n",
    "|5.  | chol     | Medida de Colesterol en mg/dl                                           |\n",
    "|6.  | fbs      | Glicemia en Ayunas (> 120 mg/dl)<br/>0 = falso<br/>1 = verdadero        |\n",
    "|7.  | restecg  | Resultados electrocardiográficos en reposo<br/>0 = normal<br/>1 = tiene una onda ST-T anormal<br/>2 = hipertrofia ventricular izquierda probable o definitiva según los criterios de Estes                                                                        |\n",
    "|8.  | thalach  | frecuencia cardíaca máxima alcanzada                                    |\n",
    "|9.  | exang    | angina inducida por ejercicio<br/>0 = no<br/>1 = si                     |\n",
    "|10. | oldpeak  | Depresión de ST inducida por el ejercicio en relación con el descanso<br/>('ST' se relaciona con las posiciones en la gráfica del ECG)                              |\n",
    "|11. | slope    | la pendiente del segmento pico ST del ejercicio<br/>0: pendiente ascendente<br/>1: plano<br/>2: pendiente descendente                                      |\n",
    "|12. | ca       | Número de vasos principales coloreados por flourosopía (0-3)            |\n",
    "|13. | thal     | un desorden en la sangre llamado thalassemia<br/>3 = normal<br/>6 = defecto fijo<br/>7 = defecto reversible                                                           |\n",
    "|14. | target   | enfermedad del corazón<br/>0 = no<br/>1 = si                            |"
   ]
  },
  {
   "cell_type": "markdown",
   "metadata": {},
   "source": [
    "# 2. Carga conjunto de datos en un dataFrame de pandas"
   ]
  },
  {
   "cell_type": "code",
   "execution_count": 2,
   "metadata": {},
   "outputs": [
    {
     "data": {
      "text/html": [
       "<div>\n",
       "<style scoped>\n",
       "    .dataframe tbody tr th:only-of-type {\n",
       "        vertical-align: middle;\n",
       "    }\n",
       "\n",
       "    .dataframe tbody tr th {\n",
       "        vertical-align: top;\n",
       "    }\n",
       "\n",
       "    .dataframe thead th {\n",
       "        text-align: right;\n",
       "    }\n",
       "</style>\n",
       "<table border=\"1\" class=\"dataframe\">\n",
       "  <thead>\n",
       "    <tr style=\"text-align: right;\">\n",
       "      <th></th>\n",
       "      <th>age</th>\n",
       "      <th>sex</th>\n",
       "      <th>cp</th>\n",
       "      <th>trestbps</th>\n",
       "      <th>chol</th>\n",
       "      <th>fbs</th>\n",
       "      <th>restecg</th>\n",
       "      <th>thalach</th>\n",
       "      <th>exang</th>\n",
       "      <th>oldpeak</th>\n",
       "      <th>slope</th>\n",
       "      <th>ca</th>\n",
       "      <th>thal</th>\n",
       "      <th>target</th>\n",
       "    </tr>\n",
       "  </thead>\n",
       "  <tbody>\n",
       "    <tr>\n",
       "      <th>0</th>\n",
       "      <td>63</td>\n",
       "      <td>1</td>\n",
       "      <td>3</td>\n",
       "      <td>145</td>\n",
       "      <td>233</td>\n",
       "      <td>1</td>\n",
       "      <td>0</td>\n",
       "      <td>150</td>\n",
       "      <td>0</td>\n",
       "      <td>2.3</td>\n",
       "      <td>0</td>\n",
       "      <td>0</td>\n",
       "      <td>1</td>\n",
       "      <td>1</td>\n",
       "    </tr>\n",
       "    <tr>\n",
       "      <th>1</th>\n",
       "      <td>37</td>\n",
       "      <td>1</td>\n",
       "      <td>2</td>\n",
       "      <td>130</td>\n",
       "      <td>250</td>\n",
       "      <td>0</td>\n",
       "      <td>1</td>\n",
       "      <td>187</td>\n",
       "      <td>0</td>\n",
       "      <td>3.5</td>\n",
       "      <td>0</td>\n",
       "      <td>0</td>\n",
       "      <td>2</td>\n",
       "      <td>1</td>\n",
       "    </tr>\n",
       "    <tr>\n",
       "      <th>2</th>\n",
       "      <td>41</td>\n",
       "      <td>0</td>\n",
       "      <td>1</td>\n",
       "      <td>130</td>\n",
       "      <td>204</td>\n",
       "      <td>0</td>\n",
       "      <td>0</td>\n",
       "      <td>172</td>\n",
       "      <td>0</td>\n",
       "      <td>1.4</td>\n",
       "      <td>2</td>\n",
       "      <td>0</td>\n",
       "      <td>2</td>\n",
       "      <td>1</td>\n",
       "    </tr>\n",
       "    <tr>\n",
       "      <th>3</th>\n",
       "      <td>56</td>\n",
       "      <td>1</td>\n",
       "      <td>1</td>\n",
       "      <td>120</td>\n",
       "      <td>236</td>\n",
       "      <td>0</td>\n",
       "      <td>1</td>\n",
       "      <td>178</td>\n",
       "      <td>0</td>\n",
       "      <td>0.8</td>\n",
       "      <td>2</td>\n",
       "      <td>0</td>\n",
       "      <td>2</td>\n",
       "      <td>1</td>\n",
       "    </tr>\n",
       "    <tr>\n",
       "      <th>4</th>\n",
       "      <td>57</td>\n",
       "      <td>0</td>\n",
       "      <td>0</td>\n",
       "      <td>120</td>\n",
       "      <td>354</td>\n",
       "      <td>0</td>\n",
       "      <td>1</td>\n",
       "      <td>163</td>\n",
       "      <td>1</td>\n",
       "      <td>0.6</td>\n",
       "      <td>2</td>\n",
       "      <td>0</td>\n",
       "      <td>2</td>\n",
       "      <td>1</td>\n",
       "    </tr>\n",
       "  </tbody>\n",
       "</table>\n",
       "</div>"
      ],
      "text/plain": [
       "   age  sex  cp  trestbps  chol  fbs  restecg  thalach  exang  oldpeak  slope  \\\n",
       "0   63    1   3       145   233    1        0      150      0      2.3      0   \n",
       "1   37    1   2       130   250    0        1      187      0      3.5      0   \n",
       "2   41    0   1       130   204    0        0      172      0      1.4      2   \n",
       "3   56    1   1       120   236    0        1      178      0      0.8      2   \n",
       "4   57    0   0       120   354    0        1      163      1      0.6      2   \n",
       "\n",
       "   ca  thal  target  \n",
       "0   0     1       1  \n",
       "1   0     2       1  \n",
       "2   0     2       1  \n",
       "3   0     2       1  \n",
       "4   0     2       1  "
      ]
     },
     "execution_count": 2,
     "metadata": {},
     "output_type": "execute_result"
    }
   ],
   "source": [
    "#Cargamos el conjunto de datos y mostramos parte de ellos\n",
    "data_heart = pd.read_csv(\"heart.csv\")\n",
    "data_heart.head()"
   ]
  },
  {
   "cell_type": "code",
   "execution_count": 3,
   "metadata": {},
   "outputs": [
    {
     "name": "stdout",
     "output_type": "stream",
     "text": [
      "Número de Registros: 303\n",
      "Número de Columnas : 14\n"
     ]
    }
   ],
   "source": [
    "#Contamos cuantos registros hay y cuantas columnas se tiene\n",
    "\n",
    "print('Número de Registros: {:,}'.format(data_heart.shape[0]))\n",
    "print('Número de Columnas : {}'.format(data_heart.shape[1]))"
   ]
  },
  {
   "cell_type": "code",
   "execution_count": 4,
   "metadata": {},
   "outputs": [
    {
     "data": {
      "text/html": [
       "<div>\n",
       "<style scoped>\n",
       "    .dataframe tbody tr th:only-of-type {\n",
       "        vertical-align: middle;\n",
       "    }\n",
       "\n",
       "    .dataframe tbody tr th {\n",
       "        vertical-align: top;\n",
       "    }\n",
       "\n",
       "    .dataframe thead th {\n",
       "        text-align: right;\n",
       "    }\n",
       "</style>\n",
       "<table border=\"1\" class=\"dataframe\">\n",
       "  <thead>\n",
       "    <tr style=\"text-align: right;\">\n",
       "      <th></th>\n",
       "      <th>age</th>\n",
       "      <th>sex</th>\n",
       "      <th>cp</th>\n",
       "      <th>trestbps</th>\n",
       "      <th>chol</th>\n",
       "      <th>fbs</th>\n",
       "      <th>restecg</th>\n",
       "      <th>thalach</th>\n",
       "      <th>exang</th>\n",
       "      <th>oldpeak</th>\n",
       "      <th>slope</th>\n",
       "      <th>ca</th>\n",
       "      <th>thal</th>\n",
       "      <th>target</th>\n",
       "    </tr>\n",
       "  </thead>\n",
       "  <tbody>\n",
       "    <tr>\n",
       "      <th>count</th>\n",
       "      <td>303.000000</td>\n",
       "      <td>303.000000</td>\n",
       "      <td>303.000000</td>\n",
       "      <td>303.000000</td>\n",
       "      <td>303.000000</td>\n",
       "      <td>303.000000</td>\n",
       "      <td>303.000000</td>\n",
       "      <td>303.000000</td>\n",
       "      <td>303.000000</td>\n",
       "      <td>303.000000</td>\n",
       "      <td>303.000000</td>\n",
       "      <td>303.000000</td>\n",
       "      <td>303.000000</td>\n",
       "      <td>303.000000</td>\n",
       "    </tr>\n",
       "    <tr>\n",
       "      <th>mean</th>\n",
       "      <td>54.366337</td>\n",
       "      <td>0.683168</td>\n",
       "      <td>0.966997</td>\n",
       "      <td>131.623762</td>\n",
       "      <td>246.264026</td>\n",
       "      <td>0.148515</td>\n",
       "      <td>0.528053</td>\n",
       "      <td>149.646865</td>\n",
       "      <td>0.326733</td>\n",
       "      <td>1.039604</td>\n",
       "      <td>1.399340</td>\n",
       "      <td>0.729373</td>\n",
       "      <td>2.313531</td>\n",
       "      <td>0.544554</td>\n",
       "    </tr>\n",
       "    <tr>\n",
       "      <th>std</th>\n",
       "      <td>9.082101</td>\n",
       "      <td>0.466011</td>\n",
       "      <td>1.032052</td>\n",
       "      <td>17.538143</td>\n",
       "      <td>51.830751</td>\n",
       "      <td>0.356198</td>\n",
       "      <td>0.525860</td>\n",
       "      <td>22.905161</td>\n",
       "      <td>0.469794</td>\n",
       "      <td>1.161075</td>\n",
       "      <td>0.616226</td>\n",
       "      <td>1.022606</td>\n",
       "      <td>0.612277</td>\n",
       "      <td>0.498835</td>\n",
       "    </tr>\n",
       "    <tr>\n",
       "      <th>min</th>\n",
       "      <td>29.000000</td>\n",
       "      <td>0.000000</td>\n",
       "      <td>0.000000</td>\n",
       "      <td>94.000000</td>\n",
       "      <td>126.000000</td>\n",
       "      <td>0.000000</td>\n",
       "      <td>0.000000</td>\n",
       "      <td>71.000000</td>\n",
       "      <td>0.000000</td>\n",
       "      <td>0.000000</td>\n",
       "      <td>0.000000</td>\n",
       "      <td>0.000000</td>\n",
       "      <td>0.000000</td>\n",
       "      <td>0.000000</td>\n",
       "    </tr>\n",
       "    <tr>\n",
       "      <th>25%</th>\n",
       "      <td>47.500000</td>\n",
       "      <td>0.000000</td>\n",
       "      <td>0.000000</td>\n",
       "      <td>120.000000</td>\n",
       "      <td>211.000000</td>\n",
       "      <td>0.000000</td>\n",
       "      <td>0.000000</td>\n",
       "      <td>133.500000</td>\n",
       "      <td>0.000000</td>\n",
       "      <td>0.000000</td>\n",
       "      <td>1.000000</td>\n",
       "      <td>0.000000</td>\n",
       "      <td>2.000000</td>\n",
       "      <td>0.000000</td>\n",
       "    </tr>\n",
       "    <tr>\n",
       "      <th>50%</th>\n",
       "      <td>55.000000</td>\n",
       "      <td>1.000000</td>\n",
       "      <td>1.000000</td>\n",
       "      <td>130.000000</td>\n",
       "      <td>240.000000</td>\n",
       "      <td>0.000000</td>\n",
       "      <td>1.000000</td>\n",
       "      <td>153.000000</td>\n",
       "      <td>0.000000</td>\n",
       "      <td>0.800000</td>\n",
       "      <td>1.000000</td>\n",
       "      <td>0.000000</td>\n",
       "      <td>2.000000</td>\n",
       "      <td>1.000000</td>\n",
       "    </tr>\n",
       "    <tr>\n",
       "      <th>75%</th>\n",
       "      <td>61.000000</td>\n",
       "      <td>1.000000</td>\n",
       "      <td>2.000000</td>\n",
       "      <td>140.000000</td>\n",
       "      <td>274.500000</td>\n",
       "      <td>0.000000</td>\n",
       "      <td>1.000000</td>\n",
       "      <td>166.000000</td>\n",
       "      <td>1.000000</td>\n",
       "      <td>1.600000</td>\n",
       "      <td>2.000000</td>\n",
       "      <td>1.000000</td>\n",
       "      <td>3.000000</td>\n",
       "      <td>1.000000</td>\n",
       "    </tr>\n",
       "    <tr>\n",
       "      <th>max</th>\n",
       "      <td>77.000000</td>\n",
       "      <td>1.000000</td>\n",
       "      <td>3.000000</td>\n",
       "      <td>200.000000</td>\n",
       "      <td>564.000000</td>\n",
       "      <td>1.000000</td>\n",
       "      <td>2.000000</td>\n",
       "      <td>202.000000</td>\n",
       "      <td>1.000000</td>\n",
       "      <td>6.200000</td>\n",
       "      <td>2.000000</td>\n",
       "      <td>4.000000</td>\n",
       "      <td>3.000000</td>\n",
       "      <td>1.000000</td>\n",
       "    </tr>\n",
       "  </tbody>\n",
       "</table>\n",
       "</div>"
      ],
      "text/plain": [
       "              age         sex          cp    trestbps        chol         fbs  \\\n",
       "count  303.000000  303.000000  303.000000  303.000000  303.000000  303.000000   \n",
       "mean    54.366337    0.683168    0.966997  131.623762  246.264026    0.148515   \n",
       "std      9.082101    0.466011    1.032052   17.538143   51.830751    0.356198   \n",
       "min     29.000000    0.000000    0.000000   94.000000  126.000000    0.000000   \n",
       "25%     47.500000    0.000000    0.000000  120.000000  211.000000    0.000000   \n",
       "50%     55.000000    1.000000    1.000000  130.000000  240.000000    0.000000   \n",
       "75%     61.000000    1.000000    2.000000  140.000000  274.500000    0.000000   \n",
       "max     77.000000    1.000000    3.000000  200.000000  564.000000    1.000000   \n",
       "\n",
       "          restecg     thalach       exang     oldpeak       slope          ca  \\\n",
       "count  303.000000  303.000000  303.000000  303.000000  303.000000  303.000000   \n",
       "mean     0.528053  149.646865    0.326733    1.039604    1.399340    0.729373   \n",
       "std      0.525860   22.905161    0.469794    1.161075    0.616226    1.022606   \n",
       "min      0.000000   71.000000    0.000000    0.000000    0.000000    0.000000   \n",
       "25%      0.000000  133.500000    0.000000    0.000000    1.000000    0.000000   \n",
       "50%      1.000000  153.000000    0.000000    0.800000    1.000000    0.000000   \n",
       "75%      1.000000  166.000000    1.000000    1.600000    2.000000    1.000000   \n",
       "max      2.000000  202.000000    1.000000    6.200000    2.000000    4.000000   \n",
       "\n",
       "             thal      target  \n",
       "count  303.000000  303.000000  \n",
       "mean     2.313531    0.544554  \n",
       "std      0.612277    0.498835  \n",
       "min      0.000000    0.000000  \n",
       "25%      2.000000    0.000000  \n",
       "50%      2.000000    1.000000  \n",
       "75%      3.000000    1.000000  \n",
       "max      3.000000    1.000000  "
      ]
     },
     "execution_count": 4,
     "metadata": {},
     "output_type": "execute_result"
    }
   ],
   "source": [
    "# Se crea una copia del dataset heart\n",
    "data_heart_x = data_heart.copy()\n",
    "\n",
    "# Se quitan todos los valores nulo\n",
    "data_heart_x.dropna(inplace = True)\n",
    "\n",
    "#Descripción de los datos importados\n",
    "data_heart_x.describe() "
   ]
  },
  {
   "cell_type": "code",
   "execution_count": 5,
   "metadata": {},
   "outputs": [
    {
     "data": {
      "text/plain": [
       "age         100.0\n",
       "sex         100.0\n",
       "cp          100.0\n",
       "trestbps    100.0\n",
       "chol        100.0\n",
       "fbs         100.0\n",
       "restecg     100.0\n",
       "thalach     100.0\n",
       "exang       100.0\n",
       "oldpeak     100.0\n",
       "slope       100.0\n",
       "ca          100.0\n",
       "thal        100.0\n",
       "target      100.0\n",
       "dtype: float64"
      ]
     },
     "execution_count": 5,
     "metadata": {},
     "output_type": "execute_result"
    }
   ],
   "source": [
    "#nivel de poblamiento de las variables, por ende no hay elementos faltantes\n",
    "data_heart_x.count(0)/data_heart_x.shape[0] * 100"
   ]
  },
  {
   "cell_type": "markdown",
   "metadata": {},
   "source": [
    "# 3. CLASIFICACIÓN VARIABLES"
   ]
  },
  {
   "cell_type": "code",
   "execution_count": 6,
   "metadata": {},
   "outputs": [
    {
     "data": {
      "text/plain": [
       "age           int64\n",
       "sex           int64\n",
       "cp            int64\n",
       "trestbps      int64\n",
       "chol          int64\n",
       "fbs           int64\n",
       "restecg       int64\n",
       "thalach       int64\n",
       "exang         int64\n",
       "oldpeak     float64\n",
       "slope         int64\n",
       "ca            int64\n",
       "thal          int64\n",
       "target        int64\n",
       "dtype: object"
      ]
     },
     "execution_count": 6,
     "metadata": {},
     "output_type": "execute_result"
    }
   ],
   "source": [
    "#Con esta sentencia podemos ver que tipo de variable hay por columnas\n",
    "data_heart_x.dtypes"
   ]
  },
  {
   "cell_type": "code",
   "execution_count": 7,
   "metadata": {},
   "outputs": [],
   "source": [
    "#clasificación de las variables en numéricas y categóricas\n",
    "from pandas.api.types import CategoricalDtype\n",
    "\n",
    "numericAttributes = ['age', 'trestbps', 'chol', 'thalach', 'oldpeak'];\n",
    "categAttributes = ['sex', 'cp', 'fbs', 'restecg', 'exang', 'slope', 'ca', 'thal'];\n",
    "target_heart = \"target\"\n",
    "\n",
    "# Convert to numeric attributes\n",
    "for col in numericAttributes:\n",
    "    data_heart_x[col] = pd.to_numeric(data_heart_x[col], errors='coerce')\n",
    "    \n",
    "# loop to change each column to category type\n",
    "for col in categAttributes:\n",
    "    cat_type = CategoricalDtype(categories = None, ordered = True)\n",
    "    data_heart_x[col] = data_heart_x[col].astype(dtype = cat_type)\n",
    "    \n",
    "#data_heart_x['class'] = data_heart_x['target'] > 0"
   ]
  },
  {
   "cell_type": "code",
   "execution_count": 8,
   "metadata": {},
   "outputs": [
    {
     "data": {
      "text/plain": [
       "age            int64\n",
       "sex         category\n",
       "cp          category\n",
       "trestbps       int64\n",
       "chol           int64\n",
       "fbs         category\n",
       "restecg     category\n",
       "thalach        int64\n",
       "exang       category\n",
       "oldpeak      float64\n",
       "slope       category\n",
       "ca          category\n",
       "thal        category\n",
       "target         int64\n",
       "dtype: object"
      ]
     },
     "execution_count": 8,
     "metadata": {},
     "output_type": "execute_result"
    }
   ],
   "source": [
    "#Variables clasificadas\n",
    "data_heart_x.dtypes"
   ]
  },
  {
   "cell_type": "code",
   "execution_count": 9,
   "metadata": {},
   "outputs": [
    {
     "data": {
      "text/html": [
       "<div>\n",
       "<style scoped>\n",
       "    .dataframe tbody tr th:only-of-type {\n",
       "        vertical-align: middle;\n",
       "    }\n",
       "\n",
       "    .dataframe tbody tr th {\n",
       "        vertical-align: top;\n",
       "    }\n",
       "\n",
       "    .dataframe thead th {\n",
       "        text-align: right;\n",
       "    }\n",
       "</style>\n",
       "<table border=\"1\" class=\"dataframe\">\n",
       "  <thead>\n",
       "    <tr style=\"text-align: right;\">\n",
       "      <th></th>\n",
       "      <th>age</th>\n",
       "      <th>sex</th>\n",
       "      <th>cp</th>\n",
       "      <th>trestbps</th>\n",
       "      <th>chol</th>\n",
       "      <th>fbs</th>\n",
       "      <th>restecg</th>\n",
       "      <th>thalach</th>\n",
       "      <th>exang</th>\n",
       "      <th>oldpeak</th>\n",
       "      <th>slope</th>\n",
       "      <th>ca</th>\n",
       "      <th>thal</th>\n",
       "      <th>target</th>\n",
       "    </tr>\n",
       "  </thead>\n",
       "  <tbody>\n",
       "    <tr>\n",
       "      <th>0</th>\n",
       "      <td>63</td>\n",
       "      <td>1</td>\n",
       "      <td>3</td>\n",
       "      <td>145</td>\n",
       "      <td>233</td>\n",
       "      <td>1</td>\n",
       "      <td>0</td>\n",
       "      <td>150</td>\n",
       "      <td>0</td>\n",
       "      <td>2.3</td>\n",
       "      <td>0</td>\n",
       "      <td>0</td>\n",
       "      <td>1</td>\n",
       "      <td>1</td>\n",
       "    </tr>\n",
       "    <tr>\n",
       "      <th>1</th>\n",
       "      <td>37</td>\n",
       "      <td>1</td>\n",
       "      <td>2</td>\n",
       "      <td>130</td>\n",
       "      <td>250</td>\n",
       "      <td>0</td>\n",
       "      <td>1</td>\n",
       "      <td>187</td>\n",
       "      <td>0</td>\n",
       "      <td>3.5</td>\n",
       "      <td>0</td>\n",
       "      <td>0</td>\n",
       "      <td>2</td>\n",
       "      <td>1</td>\n",
       "    </tr>\n",
       "    <tr>\n",
       "      <th>2</th>\n",
       "      <td>41</td>\n",
       "      <td>0</td>\n",
       "      <td>1</td>\n",
       "      <td>130</td>\n",
       "      <td>204</td>\n",
       "      <td>0</td>\n",
       "      <td>0</td>\n",
       "      <td>172</td>\n",
       "      <td>0</td>\n",
       "      <td>1.4</td>\n",
       "      <td>2</td>\n",
       "      <td>0</td>\n",
       "      <td>2</td>\n",
       "      <td>1</td>\n",
       "    </tr>\n",
       "    <tr>\n",
       "      <th>3</th>\n",
       "      <td>56</td>\n",
       "      <td>1</td>\n",
       "      <td>1</td>\n",
       "      <td>120</td>\n",
       "      <td>236</td>\n",
       "      <td>0</td>\n",
       "      <td>1</td>\n",
       "      <td>178</td>\n",
       "      <td>0</td>\n",
       "      <td>0.8</td>\n",
       "      <td>2</td>\n",
       "      <td>0</td>\n",
       "      <td>2</td>\n",
       "      <td>1</td>\n",
       "    </tr>\n",
       "    <tr>\n",
       "      <th>4</th>\n",
       "      <td>57</td>\n",
       "      <td>0</td>\n",
       "      <td>0</td>\n",
       "      <td>120</td>\n",
       "      <td>354</td>\n",
       "      <td>0</td>\n",
       "      <td>1</td>\n",
       "      <td>163</td>\n",
       "      <td>1</td>\n",
       "      <td>0.6</td>\n",
       "      <td>2</td>\n",
       "      <td>0</td>\n",
       "      <td>2</td>\n",
       "      <td>1</td>\n",
       "    </tr>\n",
       "  </tbody>\n",
       "</table>\n",
       "</div>"
      ],
      "text/plain": [
       "   age sex cp  trestbps  chol fbs restecg  thalach exang  oldpeak slope ca  \\\n",
       "0   63   1  3       145   233   1       0      150     0      2.3     0  0   \n",
       "1   37   1  2       130   250   0       1      187     0      3.5     0  0   \n",
       "2   41   0  1       130   204   0       0      172     0      1.4     2  0   \n",
       "3   56   1  1       120   236   0       1      178     0      0.8     2  0   \n",
       "4   57   0  0       120   354   0       1      163     1      0.6     2  0   \n",
       "\n",
       "  thal  target  \n",
       "0    1       1  \n",
       "1    2       1  \n",
       "2    2       1  \n",
       "3    2       1  \n",
       "4    2       1  "
      ]
     },
     "execution_count": 9,
     "metadata": {},
     "output_type": "execute_result"
    }
   ],
   "source": [
    "data_heart_x.head()"
   ]
  },
  {
   "cell_type": "markdown",
   "metadata": {},
   "source": [
    "# 4. Gráficos variables"
   ]
  },
  {
   "cell_type": "code",
   "execution_count": 10,
   "metadata": {},
   "outputs": [
    {
     "data": {
      "image/png": "[encoded data removed]",
      "text/plain": [
       "<Figure size 1800x1080 with 13 Axes>"
      ]
     },
     "metadata": {
      "needs_background": "light"
     },
     "output_type": "display_data"
    }
   ],
   "source": [
    "#Configuración de colores\n",
    "colors = [\"#1f77b4\", \"#ff7f0e\", \"#2ca02c\", \"#FF3333\", \"#AF33FF\"]    #blue, Orange, green, red, morado\n",
    "\n",
    "# declarando un objeto tipo Figura para desarrollar los subplots\n",
    "fig = plt.figure(figsize=(25, 15))\n",
    "\n",
    "x = 1\n",
    "# Graficas de tipo Histograma Variables Númericas\n",
    "for numAtt in numericAttributes:\n",
    "    ax = fig.add_subplot(3,5,x)\n",
    "    data_heart_x[[numAtt]].plot(kind='hist', ax=ax, rwidth=1)\n",
    "    plt.title(numAtt)\n",
    "    x = x + 1\n",
    "\n",
    "# Graficas de tipo Pie para Variables Categoricas\n",
    "x = 6\n",
    "for catAtt in categAttributes:\n",
    "    ax = fig.add_subplot(3,5,x)\n",
    "    data_heart_x[catAtt].value_counts().plot(kind='pie', ax=ax, startangle=115, fontsize=14, colors=colors)\n",
    "    plt.title(catAtt)\n",
    "    x = x + 1\n",
    "\n",
    "\n",
    "plt.show()"
   ]
  },
  {
   "cell_type": "markdown",
   "metadata": {},
   "source": [
    "### Ahora se usa histogramas para las variables categoricas"
   ]
  },
  {
   "cell_type": "code",
   "execution_count": 11,
   "metadata": {},
   "outputs": [
    {
     "data": {
      "image/png": "[encoded data removed]",
      "text/plain": [
       "<Figure size 1440x2160 with 8 Axes>"
      ]
     },
     "metadata": {
      "needs_background": "light"
     },
     "output_type": "display_data"
    }
   ],
   "source": [
    "fig = plt.figure(figsize=(30, 60))\n",
    "x = 1\n",
    "for catAtt in categAttributes:\n",
    "    ax = fig.add_subplot(6,6,x)\n",
    "    data_heart_x[catAtt].value_counts(sort=False).plot(kind='bar', ax=ax, figsize=(20, 30)).set_title(catAtt)\n",
    "    x = x + 1\n",
    "plt.show()"
   ]
  },
  {
   "cell_type": "markdown",
   "metadata": {},
   "source": [
    "## Se evalua si algunas variables tienen algun poder de clasificación"
   ]
  },
  {
   "cell_type": "markdown",
   "metadata": {},
   "source": [
    "### Violin plots"
   ]
  },
  {
   "cell_type": "code",
   "execution_count": 12,
   "metadata": {},
   "outputs": [
    {
     "data": {
      "image/png": "[encoded data removed]",
      "text/plain": [
       "<Figure size 2160x7200 with 5 Axes>"
      ]
     },
     "metadata": {
      "needs_background": "light"
     },
     "output_type": "display_data"
    }
   ],
   "source": [
    "fig = plt.figure(figsize = (30, 100))\n",
    "x = 1\n",
    "for numAtt in numericAttributes:\n",
    "    ax = fig.add_subplot(6,7,x)\n",
    "    sns.violinplot(x = \"target\", y = numAtt, data = data_heart_x)\n",
    "    x = x + 1"
   ]
  },
  {
   "cell_type": "markdown",
   "metadata": {},
   "source": [
    "### Box plots"
   ]
  },
  {
   "cell_type": "code",
   "execution_count": 13,
   "metadata": {},
   "outputs": [
    {
     "data": {
      "image/png": "[encoded data removed]",
      "text/plain": [
       "<Figure size 2160x2160 with 6 Axes>"
      ]
     },
     "metadata": {
      "needs_background": "light"
     },
     "output_type": "display_data"
    }
   ],
   "source": [
    "f, axes = plt.subplots(nrows = 2, ncols = 3, figsize = (30,30))\n",
    "axes = axes.flatten()\n",
    "x = 0\n",
    "for numAtt in numericAttributes:\n",
    "    # ax = fig.add_subplot(6,7,x)\n",
    "    sns.boxplot(x = \"target\", y = numAtt, data = data_heart_x, ax=axes[x])\n",
    "    x = x + 1"
   ]
  },
  {
   "cell_type": "markdown",
   "metadata": {},
   "source": [
    "### Categorical vs Categorical"
   ]
  },
  {
   "cell_type": "markdown",
   "metadata": {},
   "source": [
    "#### Intentamos determinar si algunas variables categoricas tienen algún poder de clasificación."
   ]
  },
  {
   "cell_type": "code",
   "execution_count": 14,
   "metadata": {},
   "outputs": [
    {
     "data": {
      "image/png": "[encoded data removed]",
      "text/plain": [
       "<Figure size 3600x648 with 8 Axes>"
      ]
     },
     "metadata": {
      "needs_background": "light"
     },
     "output_type": "display_data"
    }
   ],
   "source": [
    "f, axes = plt.subplots(nrows = 2, ncols = 4)\n",
    "axes = axes.flatten()\n",
    "x = 0\n",
    "for catAtt in categAttributes:\n",
    "    cross = pd.crosstab(index=data_heart_x[catAtt], \n",
    "                        columns=data_heart_x[\"target\"],\n",
    "                        normalize='index')\n",
    "    cross.plot(kind=\"bar\", \n",
    "                 figsize=(50,9),\n",
    "                 stacked=True,\n",
    "                 ax=axes[x])\n",
    "\n",
    "    #sns.countplot(y = catAtt, hue=\"JobSatisfaction\", data=data, ax=axes[x]);\n",
    "    x = x + 1"
   ]
  },
  {
   "cell_type": "markdown",
   "metadata": {},
   "source": [
    "# 5. Complete o remueva los elementos faltantes del conjunto de datos si existen"
   ]
  },
  {
   "cell_type": "code",
   "execution_count": 15,
   "metadata": {},
   "outputs": [
    {
     "name": "stdout",
     "output_type": "stream",
     "text": [
      "Datos nulos DataSet heart: 0\n"
     ]
    }
   ],
   "source": [
    "#Revisión por columnas\n",
    "print('Datos nulos DataSet heart: {}'.format(data_heart_x.isnull().sum().sum()))"
   ]
  },
  {
   "cell_type": "code",
   "execution_count": 16,
   "metadata": {},
   "outputs": [
    {
     "name": "stdout",
     "output_type": "stream",
     "text": [
      "Número de Registros antes del borrado: 303\n",
      "Número de Registros despues del borrado: 303\n",
      "Porcentaje de Perdida de datos: 0.00%\n"
     ]
    }
   ],
   "source": [
    "#Revisión por filas\n",
    "df_no_missing = data_heart_x.dropna()\n",
    "\n",
    "print('Número de Registros antes del borrado: {}'.format(data_heart_x.shape[0]))\n",
    "print('Número de Registros despues del borrado: {}'.format(df_no_missing.shape[0]))\n",
    "print('Porcentaje de Perdida de datos: {:.2f}%'.format(100-(df_no_missing.shape[0]*100)/data_heart_x.shape[0]))"
   ]
  },
  {
   "cell_type": "code",
   "execution_count": 17,
   "metadata": {},
   "outputs": [
    {
     "data": {
      "text/plain": [
       "age         0\n",
       "sex         0\n",
       "cp          0\n",
       "trestbps    0\n",
       "chol        0\n",
       "fbs         0\n",
       "restecg     0\n",
       "thalach     0\n",
       "exang       0\n",
       "oldpeak     0\n",
       "slope       0\n",
       "ca          0\n",
       "thal        0\n",
       "target      0\n",
       "dtype: int64"
      ]
     },
     "metadata": {},
     "output_type": "display_data"
    }
   ],
   "source": [
    "#Se cuentan los valores nulos por variable\n",
    "display(data_heart_x.isnull().sum())"
   ]
  },
  {
   "cell_type": "markdown",
   "metadata": {},
   "source": [
    "# 6. Preparar datos para classificación"
   ]
  },
  {
   "cell_type": "code",
   "execution_count": 18,
   "metadata": {},
   "outputs": [],
   "source": [
    "#Pasamos nuestras variables categoricas a numerícas\n",
    "data_heart_x2 = data_heart_x.copy()\n",
    "\n",
    "for catAtt in categAttributes:\n",
    "    dummies = pd.get_dummies(data_heart_x2[catAtt], prefix = catAtt)\n",
    "    data_heart_x2 = pd.concat([data_heart_x2.drop(catAtt, axis = 1), dummies], axis = 1)"
   ]
  },
  {
   "cell_type": "code",
   "execution_count": 19,
   "metadata": {},
   "outputs": [
    {
     "name": "stdout",
     "output_type": "stream",
     "text": [
      "Número de Registros: 303\n",
      "Número de Columnas : 31\n"
     ]
    },
    {
     "data": {
      "text/html": [
       "<div>\n",
       "<style scoped>\n",
       "    .dataframe tbody tr th:only-of-type {\n",
       "        vertical-align: middle;\n",
       "    }\n",
       "\n",
       "    .dataframe tbody tr th {\n",
       "        vertical-align: top;\n",
       "    }\n",
       "\n",
       "    .dataframe thead th {\n",
       "        text-align: right;\n",
       "    }\n",
       "</style>\n",
       "<table border=\"1\" class=\"dataframe\">\n",
       "  <thead>\n",
       "    <tr style=\"text-align: right;\">\n",
       "      <th></th>\n",
       "      <th>age</th>\n",
       "      <th>trestbps</th>\n",
       "      <th>chol</th>\n",
       "      <th>thalach</th>\n",
       "      <th>oldpeak</th>\n",
       "      <th>target</th>\n",
       "      <th>sex_0</th>\n",
       "      <th>sex_1</th>\n",
       "      <th>cp_0</th>\n",
       "      <th>cp_1</th>\n",
       "      <th>...</th>\n",
       "      <th>slope_2</th>\n",
       "      <th>ca_0</th>\n",
       "      <th>ca_1</th>\n",
       "      <th>ca_2</th>\n",
       "      <th>ca_3</th>\n",
       "      <th>ca_4</th>\n",
       "      <th>thal_0</th>\n",
       "      <th>thal_1</th>\n",
       "      <th>thal_2</th>\n",
       "      <th>thal_3</th>\n",
       "    </tr>\n",
       "  </thead>\n",
       "  <tbody>\n",
       "    <tr>\n",
       "      <th>0</th>\n",
       "      <td>63</td>\n",
       "      <td>145</td>\n",
       "      <td>233</td>\n",
       "      <td>150</td>\n",
       "      <td>2.3</td>\n",
       "      <td>1</td>\n",
       "      <td>0</td>\n",
       "      <td>1</td>\n",
       "      <td>0</td>\n",
       "      <td>0</td>\n",
       "      <td>...</td>\n",
       "      <td>0</td>\n",
       "      <td>1</td>\n",
       "      <td>0</td>\n",
       "      <td>0</td>\n",
       "      <td>0</td>\n",
       "      <td>0</td>\n",
       "      <td>0</td>\n",
       "      <td>1</td>\n",
       "      <td>0</td>\n",
       "      <td>0</td>\n",
       "    </tr>\n",
       "    <tr>\n",
       "      <th>1</th>\n",
       "      <td>37</td>\n",
       "      <td>130</td>\n",
       "      <td>250</td>\n",
       "      <td>187</td>\n",
       "      <td>3.5</td>\n",
       "      <td>1</td>\n",
       "      <td>0</td>\n",
       "      <td>1</td>\n",
       "      <td>0</td>\n",
       "      <td>0</td>\n",
       "      <td>...</td>\n",
       "      <td>0</td>\n",
       "      <td>1</td>\n",
       "      <td>0</td>\n",
       "      <td>0</td>\n",
       "      <td>0</td>\n",
       "      <td>0</td>\n",
       "      <td>0</td>\n",
       "      <td>0</td>\n",
       "      <td>1</td>\n",
       "      <td>0</td>\n",
       "    </tr>\n",
       "    <tr>\n",
       "      <th>2</th>\n",
       "      <td>41</td>\n",
       "      <td>130</td>\n",
       "      <td>204</td>\n",
       "      <td>172</td>\n",
       "      <td>1.4</td>\n",
       "      <td>1</td>\n",
       "      <td>1</td>\n",
       "      <td>0</td>\n",
       "      <td>0</td>\n",
       "      <td>1</td>\n",
       "      <td>...</td>\n",
       "      <td>1</td>\n",
       "      <td>1</td>\n",
       "      <td>0</td>\n",
       "      <td>0</td>\n",
       "      <td>0</td>\n",
       "      <td>0</td>\n",
       "      <td>0</td>\n",
       "      <td>0</td>\n",
       "      <td>1</td>\n",
       "      <td>0</td>\n",
       "    </tr>\n",
       "    <tr>\n",
       "      <th>3</th>\n",
       "      <td>56</td>\n",
       "      <td>120</td>\n",
       "      <td>236</td>\n",
       "      <td>178</td>\n",
       "      <td>0.8</td>\n",
       "      <td>1</td>\n",
       "      <td>0</td>\n",
       "      <td>1</td>\n",
       "      <td>0</td>\n",
       "      <td>1</td>\n",
       "      <td>...</td>\n",
       "      <td>1</td>\n",
       "      <td>1</td>\n",
       "      <td>0</td>\n",
       "      <td>0</td>\n",
       "      <td>0</td>\n",
       "      <td>0</td>\n",
       "      <td>0</td>\n",
       "      <td>0</td>\n",
       "      <td>1</td>\n",
       "      <td>0</td>\n",
       "    </tr>\n",
       "    <tr>\n",
       "      <th>4</th>\n",
       "      <td>57</td>\n",
       "      <td>120</td>\n",
       "      <td>354</td>\n",
       "      <td>163</td>\n",
       "      <td>0.6</td>\n",
       "      <td>1</td>\n",
       "      <td>1</td>\n",
       "      <td>0</td>\n",
       "      <td>1</td>\n",
       "      <td>0</td>\n",
       "      <td>...</td>\n",
       "      <td>1</td>\n",
       "      <td>1</td>\n",
       "      <td>0</td>\n",
       "      <td>0</td>\n",
       "      <td>0</td>\n",
       "      <td>0</td>\n",
       "      <td>0</td>\n",
       "      <td>0</td>\n",
       "      <td>1</td>\n",
       "      <td>0</td>\n",
       "    </tr>\n",
       "  </tbody>\n",
       "</table>\n",
       "<p>5 rows × 31 columns</p>\n",
       "</div>"
      ],
      "text/plain": [
       "   age  trestbps  chol  thalach  oldpeak  target  sex_0  sex_1  cp_0  cp_1  \\\n",
       "0   63       145   233      150      2.3       1      0      1     0     0   \n",
       "1   37       130   250      187      3.5       1      0      1     0     0   \n",
       "2   41       130   204      172      1.4       1      1      0     0     1   \n",
       "3   56       120   236      178      0.8       1      0      1     0     1   \n",
       "4   57       120   354      163      0.6       1      1      0     1     0   \n",
       "\n",
       "   ...  slope_2  ca_0  ca_1  ca_2  ca_3  ca_4  thal_0  thal_1  thal_2  thal_3  \n",
       "0  ...        0     1     0     0     0     0       0       1       0       0  \n",
       "1  ...        0     1     0     0     0     0       0       0       1       0  \n",
       "2  ...        1     1     0     0     0     0       0       0       1       0  \n",
       "3  ...        1     1     0     0     0     0       0       0       1       0  \n",
       "4  ...        1     1     0     0     0     0       0       0       1       0  \n",
       "\n",
       "[5 rows x 31 columns]"
      ]
     },
     "execution_count": 19,
     "metadata": {},
     "output_type": "execute_result"
    }
   ],
   "source": [
    "#Contamos cuantos registros hay y cuantas columnas se tiene\n",
    "\n",
    "print('Número de Registros: {:,}'.format(data_heart_x2.shape[0]))\n",
    "print('Número de Columnas : {}'.format(data_heart_x2.shape[1]))\n",
    "\n",
    "data_heart_x2.head()"
   ]
  },
  {
   "cell_type": "code",
   "execution_count": 20,
   "metadata": {},
   "outputs": [
    {
     "data": {
      "text/plain": [
       "age            int64\n",
       "trestbps       int64\n",
       "chol           int64\n",
       "thalach        int64\n",
       "oldpeak      float64\n",
       "target         int64\n",
       "sex_0          uint8\n",
       "sex_1          uint8\n",
       "cp_0           uint8\n",
       "cp_1           uint8\n",
       "cp_2           uint8\n",
       "cp_3           uint8\n",
       "fbs_0          uint8\n",
       "fbs_1          uint8\n",
       "restecg_0      uint8\n",
       "restecg_1      uint8\n",
       "restecg_2      uint8\n",
       "exang_0        uint8\n",
       "exang_1        uint8\n",
       "slope_0        uint8\n",
       "slope_1        uint8\n",
       "slope_2        uint8\n",
       "ca_0           uint8\n",
       "ca_1           uint8\n",
       "ca_2           uint8\n",
       "ca_3           uint8\n",
       "ca_4           uint8\n",
       "thal_0         uint8\n",
       "thal_1         uint8\n",
       "thal_2         uint8\n",
       "thal_3         uint8\n",
       "dtype: object"
      ]
     },
     "execution_count": 20,
     "metadata": {},
     "output_type": "execute_result"
    }
   ],
   "source": [
    "data_heart_x2.dtypes"
   ]
  },
  {
   "cell_type": "markdown",
   "metadata": {},
   "source": [
    "# 7. Divida el conjunto de datos en 2: 80% para entrenamiento y 20% para pruebas"
   ]
  },
  {
   "cell_type": "code",
   "execution_count": 21,
   "metadata": {},
   "outputs": [
    {
     "name": "stdout",
     "output_type": "stream",
     "text": [
      "(242, 30) (242,)\n",
      "(61, 30) (61,)\n"
     ]
    }
   ],
   "source": [
    "# Se divide el set de datos en dos conjuntos train y test\n",
    "y = data_heart_x2['target'].values\n",
    "x = data_heart_x2.drop(\"target\", axis = 1)\n",
    "\n",
    "# Split the data into train and test\n",
    "trainX, testX, trainY, testY = train_test_split(x, y, test_size=0.2)\n",
    "print(trainX.shape, trainY.shape)\n",
    "print(testX.shape, testY.shape)"
   ]
  },
  {
   "cell_type": "markdown",
   "metadata": {},
   "source": [
    "# 8.Entrenamiento modelo de árbol de decisión"
   ]
  },
  {
   "cell_type": "markdown",
   "metadata": {},
   "source": [
    "####  Para la medida de selección de atributos se utiliza el indice Gini,  cuanto mayor sea el valor del gini mayor será la homogeneidad"
   ]
  },
  {
   "cell_type": "code",
   "execution_count": 22,
   "metadata": {},
   "outputs": [],
   "source": [
    "#Se entrena el árbol de decisión, mediante pruebas se toma como maxima profundidad del árbol 11 y la división 20\n",
    "max_depthx = 11\n",
    "min_samples_splitx = 20\n",
    "model_tree = DecisionTreeClassifier(max_depth = max_depthx, \n",
    "                                             min_samples_split = min_samples_splitx, \n",
    "                                             random_state = 1)\n",
    "\n",
    "model2 = model_tree.fit(trainX, trainY)\n",
    "\n",
    "#(criterion='entropy', min_samples_split=20, min_samples_leaf=5, max_depth = 11, class_weight={1:3.5})\n"
   ]
  },
  {
   "cell_type": "markdown",
   "metadata": {},
   "source": [
    "### Entrenamiento "
   ]
  },
  {
   "cell_type": "code",
   "execution_count": 23,
   "metadata": {},
   "outputs": [
    {
     "name": "stdout",
     "output_type": "stream",
     "text": [
      "Entrenamiento:  0.8842975206611571\n",
      "matriz de confusión: \n",
      "Precisión matriz de confusión:  0.8842975206611571\n"
     ]
    },
    {
     "data": {
      "image/png": "[encoded data removed]",
      "text/plain": [
       "<Figure size 432x288 with 1 Axes>"
      ]
     },
     "metadata": {
      "needs_background": "light"
     },
     "output_type": "display_data"
    }
   ],
   "source": [
    "#Entrenamiento (%)\n",
    "#Dado que es un problema de clasificación por encima del 50% es bueno y por debajo es malo\n",
    "print(\"Entrenamiento: \", model2.score(trainX, trainY))\n",
    "\n",
    "#Diagonal verdaderos positivos (aciertos del modelo de clasificación)\n",
    "#Por fuera de la diagonal las fallas\n",
    "print(\"matriz de confusión: \")\n",
    "mc_train = confusion_matrix(model2.predict(trainX), trainY)\n",
    "sns.heatmap(mc_train, annot=True, cmap=\"Blues\", fmt=\"d\", cbar=False)\n",
    "\n",
    "#Accuracy\n",
    "accuracy_traint = ((mc_train[0][0] + mc_train[1][1])/242)\n",
    "print(\"Precisión matriz de confusión: \", accuracy_traint)"
   ]
  },
  {
   "cell_type": "markdown",
   "metadata": {},
   "source": [
    "#### Dado que nuestro objetivo tiene solo dos valores (no enfermo o enfermo) para que nuestro modelo sea bueno debe sobrepasar el 50% y aqui vemos que lo cumple, la precisión alcanza el 90%.\n",
    "\n",
    "#### La matriz de confusión muestra que los datos de entrenamiento alcanzan una gran cantidad de aciertos y pocas fallas."
   ]
  },
  {
   "cell_type": "markdown",
   "metadata": {},
   "source": [
    "### Prueba "
   ]
  },
  {
   "cell_type": "code",
   "execution_count": 24,
   "metadata": {},
   "outputs": [
    {
     "name": "stdout",
     "output_type": "stream",
     "text": [
      "Prueba:  0.7377049180327869\n",
      "matriz de confusión: \n",
      "Precisión matriz de confusión:  0.7377049180327869\n"
     ]
    },
    {
     "data": {
      "image/png": "[encoded data removed]",
      "text/plain": [
       "<Figure size 432x288 with 1 Axes>"
      ]
     },
     "metadata": {
      "needs_background": "light"
     },
     "output_type": "display_data"
    }
   ],
   "source": [
    "#Prueba (%)\n",
    "#Dado que es un problema de clasificación por encima del 50% es bueno y por debajo es malo\n",
    "print(\"Prueba: \", model2.score(testX, testY))\n",
    "\n",
    "#Diagonal verdaderos positivos (aciertos del modelo de clasificación)\n",
    "#Por fuera de la diagonal las fallas\n",
    "print(\"matriz de confusión: \")\n",
    "mc_test = confusion_matrix(model2.predict(testX), testY)\n",
    "sns.heatmap(mc_test, annot=True, cmap=\"Blues\", fmt=\"d\", cbar=False)\n",
    "\n",
    "#Accuracy\n",
    "accuracy_test = ((mc_test[0][0] + mc_test[1][1])/61)\n",
    "print(\"Precisión matriz de confusión: \", accuracy_test)"
   ]
  },
  {
   "cell_type": "markdown",
   "metadata": {},
   "source": [
    "#### Para el set de datos de prueba se tiene una precisón un poco menor que en el set de entrenamiento, pero que es buena dado que esta por encima del 50%. Las fallas vienen siendo menores en comparación con los aciertos. "
   ]
  },
  {
   "cell_type": "code",
   "execution_count": 25,
   "metadata": {},
   "outputs": [
    {
     "data": {
      "image/svg+xml": [
       "<svg height=\"909pt\" viewBox=\"0.00 0.00 1462.00 909.00\" width=\"1462pt\" xmlns=\"http://www.w3.org/2000/svg\" xmlns:xlink=\"http://www.w3.org/1999/xlink\">\n",
       "<g class=\"graph\" id=\"graph0\" transform=\"scale(1 1) rotate(0) translate(4 905)\">\n",
       "<title>Tree</title>\n",
       "<polygon fill=\"white\" points=\"-4,4 -4,-905 1458,-905 1458,4 -4,4\" stroke=\"none\"/>\n",
       "<!-- 0 -->\n",
       "<g class=\"node\" id=\"node1\"><title>0</title>\n",
       "<polygon fill=\"#d9ecfa\" points=\"833.5,-901 715.5,-901 715.5,-818 833.5,-818 833.5,-901\" stroke=\"black\"/>\n",
       "<text font-family=\"Times New Roman,serif\" font-size=\"14.00\" text-anchor=\"middle\" x=\"774.5\" y=\"-885.8\">cp_0 &lt;= 0.5</text>\n",
       "<text font-family=\"Times New Roman,serif\" font-size=\"14.00\" text-anchor=\"middle\" x=\"774.5\" y=\"-870.8\">gini = 0.494</text>\n",
       "<text font-family=\"Times New Roman,serif\" font-size=\"14.00\" text-anchor=\"middle\" x=\"774.5\" y=\"-855.8\">samples = 242</text>\n",
       "<text font-family=\"Times New Roman,serif\" font-size=\"14.00\" text-anchor=\"middle\" x=\"774.5\" y=\"-840.8\">value = [108, 134]</text>\n",
       "<text font-family=\"Times New Roman,serif\" font-size=\"14.00\" text-anchor=\"middle\" x=\"774.5\" y=\"-825.8\">class = enfermo</text>\n",
       "</g>\n",
       "<!-- 1 -->\n",
       "<g class=\"node\" id=\"node2\"><title>1</title>\n",
       "<polygon fill=\"#6db7ec\" points=\"733,-782 622,-782 622,-699 733,-699 733,-782\" stroke=\"black\"/>\n",
       "<text font-family=\"Times New Roman,serif\" font-size=\"14.00\" text-anchor=\"middle\" x=\"677.5\" y=\"-766.8\">oldpeak &lt;= 2.45</text>\n",
       "<text font-family=\"Times New Roman,serif\" font-size=\"14.00\" text-anchor=\"middle\" x=\"677.5\" y=\"-751.8\">gini = 0.329</text>\n",
       "<text font-family=\"Times New Roman,serif\" font-size=\"14.00\" text-anchor=\"middle\" x=\"677.5\" y=\"-736.8\">samples = 135</text>\n",
       "<text font-family=\"Times New Roman,serif\" font-size=\"14.00\" text-anchor=\"middle\" x=\"677.5\" y=\"-721.8\">value = [28, 107]</text>\n",
       "<text font-family=\"Times New Roman,serif\" font-size=\"14.00\" text-anchor=\"middle\" x=\"677.5\" y=\"-706.8\">class = enfermo</text>\n",
       "</g>\n",
       "<!-- 0&#45;&gt;1 -->\n",
       "<g class=\"edge\" id=\"edge1\"><title>0-&gt;1</title>\n",
       "<path d=\"M740.846,-817.907C733.323,-808.832 725.271,-799.121 717.518,-789.769\" fill=\"none\" stroke=\"black\"/>\n",
       "<polygon fill=\"black\" points=\"720.171,-787.485 711.094,-782.021 714.782,-791.953 720.171,-787.485\" stroke=\"black\"/>\n",
       "<text font-family=\"Times New Roman,serif\" font-size=\"14.00\" text-anchor=\"middle\" x=\"708.768\" y=\"-803.212\">True</text>\n",
       "</g>\n",
       "<!-- 20 -->\n",
       "<g class=\"node\" id=\"node21\"><title>20</title>\n",
       "<polygon fill=\"#eeac7c\" points=\"927,-782 816,-782 816,-699 927,-699 927,-782\" stroke=\"black\"/>\n",
       "<text font-family=\"Times New Roman,serif\" font-size=\"14.00\" text-anchor=\"middle\" x=\"871.5\" y=\"-766.8\">ca_0 &lt;= 0.5</text>\n",
       "<text font-family=\"Times New Roman,serif\" font-size=\"14.00\" text-anchor=\"middle\" x=\"871.5\" y=\"-751.8\">gini = 0.377</text>\n",
       "<text font-family=\"Times New Roman,serif\" font-size=\"14.00\" text-anchor=\"middle\" x=\"871.5\" y=\"-736.8\">samples = 107</text>\n",
       "<text font-family=\"Times New Roman,serif\" font-size=\"14.00\" text-anchor=\"middle\" x=\"871.5\" y=\"-721.8\">value = [80, 27]</text>\n",
       "<text font-family=\"Times New Roman,serif\" font-size=\"14.00\" text-anchor=\"middle\" x=\"871.5\" y=\"-706.8\">class = no fermo</text>\n",
       "</g>\n",
       "<!-- 0&#45;&gt;20 -->\n",
       "<g class=\"edge\" id=\"edge20\"><title>0-&gt;20</title>\n",
       "<path d=\"M808.154,-817.907C815.677,-808.832 823.729,-799.121 831.482,-789.769\" fill=\"none\" stroke=\"black\"/>\n",
       "<polygon fill=\"black\" points=\"834.218,-791.953 837.906,-782.021 828.829,-787.485 834.218,-791.953\" stroke=\"black\"/>\n",
       "<text font-family=\"Times New Roman,serif\" font-size=\"14.00\" text-anchor=\"middle\" x=\"840.232\" y=\"-803.212\">False</text>\n",
       "</g>\n",
       "<!-- 2 -->\n",
       "<g class=\"node\" id=\"node3\"><title>2</title>\n",
       "<polygon fill=\"#60b0ea\" points=\"573,-663 462,-663 462,-580 573,-580 573,-663\" stroke=\"black\"/>\n",
       "<text font-family=\"Times New Roman,serif\" font-size=\"14.00\" text-anchor=\"middle\" x=\"517.5\" y=\"-647.8\">ca_0 &lt;= 0.5</text>\n",
       "<text font-family=\"Times New Roman,serif\" font-size=\"14.00\" text-anchor=\"middle\" x=\"517.5\" y=\"-632.8\">gini = 0.276</text>\n",
       "<text font-family=\"Times New Roman,serif\" font-size=\"14.00\" text-anchor=\"middle\" x=\"517.5\" y=\"-617.8\">samples = 127</text>\n",
       "<text font-family=\"Times New Roman,serif\" font-size=\"14.00\" text-anchor=\"middle\" x=\"517.5\" y=\"-602.8\">value = [21, 106]</text>\n",
       "<text font-family=\"Times New Roman,serif\" font-size=\"14.00\" text-anchor=\"middle\" x=\"517.5\" y=\"-587.8\">class = enfermo</text>\n",
       "</g>\n",
       "<!-- 1&#45;&gt;2 -->\n",
       "<g class=\"edge\" id=\"edge2\"><title>1-&gt;2</title>\n",
       "<path d=\"M621.989,-698.907C608.834,-689.288 594.701,-678.953 581.213,-669.09\" fill=\"none\" stroke=\"black\"/>\n",
       "<polygon fill=\"black\" points=\"583.051,-666.098 572.913,-663.021 578.919,-671.749 583.051,-666.098\" stroke=\"black\"/>\n",
       "</g>\n",
       "<!-- 19 -->\n",
       "<g class=\"node\" id=\"node20\"><title>19</title>\n",
       "<polygon fill=\"#e99355\" points=\"733,-655.5 622,-655.5 622,-587.5 733,-587.5 733,-655.5\" stroke=\"black\"/>\n",
       "<text font-family=\"Times New Roman,serif\" font-size=\"14.00\" text-anchor=\"middle\" x=\"677.5\" y=\"-640.3\">gini = 0.219</text>\n",
       "<text font-family=\"Times New Roman,serif\" font-size=\"14.00\" text-anchor=\"middle\" x=\"677.5\" y=\"-625.3\">samples = 8</text>\n",
       "<text font-family=\"Times New Roman,serif\" font-size=\"14.00\" text-anchor=\"middle\" x=\"677.5\" y=\"-610.3\">value = [7, 1]</text>\n",
       "<text font-family=\"Times New Roman,serif\" font-size=\"14.00\" text-anchor=\"middle\" x=\"677.5\" y=\"-595.3\">class = no fermo</text>\n",
       "</g>\n",
       "<!-- 1&#45;&gt;19 -->\n",
       "<g class=\"edge\" id=\"edge19\"><title>1-&gt;19</title>\n",
       "<path d=\"M677.5,-698.907C677.5,-688.204 677.5,-676.615 677.5,-665.776\" fill=\"none\" stroke=\"black\"/>\n",
       "<polygon fill=\"black\" points=\"681,-665.667 677.5,-655.667 674,-665.667 681,-665.667\" stroke=\"black\"/>\n",
       "</g>\n",
       "<!-- 3 -->\n",
       "<g class=\"node\" id=\"node4\"><title>3</title>\n",
       "<polygon fill=\"#a8d4f4\" points=\"423.5,-544 317.5,-544 317.5,-461 423.5,-461 423.5,-544\" stroke=\"black\"/>\n",
       "<text font-family=\"Times New Roman,serif\" font-size=\"14.00\" text-anchor=\"middle\" x=\"370.5\" y=\"-528.8\">slope_1 &lt;= 0.5</text>\n",
       "<text font-family=\"Times New Roman,serif\" font-size=\"14.00\" text-anchor=\"middle\" x=\"370.5\" y=\"-513.8\">gini = 0.46</text>\n",
       "<text font-family=\"Times New Roman,serif\" font-size=\"14.00\" text-anchor=\"middle\" x=\"370.5\" y=\"-498.8\">samples = 39</text>\n",
       "<text font-family=\"Times New Roman,serif\" font-size=\"14.00\" text-anchor=\"middle\" x=\"370.5\" y=\"-483.8\">value = [14, 25]</text>\n",
       "<text font-family=\"Times New Roman,serif\" font-size=\"14.00\" text-anchor=\"middle\" x=\"370.5\" y=\"-468.8\">class = enfermo</text>\n",
       "</g>\n",
       "<!-- 2&#45;&gt;3 -->\n",
       "<g class=\"edge\" id=\"edge3\"><title>2-&gt;3</title>\n",
       "<path d=\"M466.499,-579.907C454.527,-570.379 441.673,-560.148 429.387,-550.37\" fill=\"none\" stroke=\"black\"/>\n",
       "<polygon fill=\"black\" points=\"431.415,-547.51 421.411,-544.021 427.055,-552.987 431.415,-547.51\" stroke=\"black\"/>\n",
       "</g>\n",
       "<!-- 12 -->\n",
       "<g class=\"node\" id=\"node13\"><title>12</title>\n",
       "<polygon fill=\"#4aa5e7\" points=\"570.5,-544 464.5,-544 464.5,-461 570.5,-461 570.5,-544\" stroke=\"black\"/>\n",
       "<text font-family=\"Times New Roman,serif\" font-size=\"14.00\" text-anchor=\"middle\" x=\"517.5\" y=\"-528.8\">age &lt;= 56.5</text>\n",
       "<text font-family=\"Times New Roman,serif\" font-size=\"14.00\" text-anchor=\"middle\" x=\"517.5\" y=\"-513.8\">gini = 0.146</text>\n",
       "<text font-family=\"Times New Roman,serif\" font-size=\"14.00\" text-anchor=\"middle\" x=\"517.5\" y=\"-498.8\">samples = 88</text>\n",
       "<text font-family=\"Times New Roman,serif\" font-size=\"14.00\" text-anchor=\"middle\" x=\"517.5\" y=\"-483.8\">value = [7, 81]</text>\n",
       "<text font-family=\"Times New Roman,serif\" font-size=\"14.00\" text-anchor=\"middle\" x=\"517.5\" y=\"-468.8\">class = enfermo</text>\n",
       "</g>\n",
       "<!-- 2&#45;&gt;12 -->\n",
       "<g class=\"edge\" id=\"edge12\"><title>2-&gt;12</title>\n",
       "<path d=\"M517.5,-579.907C517.5,-571.649 517.5,-562.864 517.5,-554.302\" fill=\"none\" stroke=\"black\"/>\n",
       "<polygon fill=\"black\" points=\"521,-554.021 517.5,-544.021 514,-554.021 521,-554.021\" stroke=\"black\"/>\n",
       "</g>\n",
       "<!-- 4 -->\n",
       "<g class=\"node\" id=\"node5\"><title>4</title>\n",
       "<polygon fill=\"#68b4eb\" points=\"296.5,-425 180.5,-425 180.5,-342 296.5,-342 296.5,-425\" stroke=\"black\"/>\n",
       "<text font-family=\"Times New Roman,serif\" font-size=\"14.00\" text-anchor=\"middle\" x=\"238.5\" y=\"-409.8\">trestbps &lt;= 176.0</text>\n",
       "<text font-family=\"Times New Roman,serif\" font-size=\"14.00\" text-anchor=\"middle\" x=\"238.5\" y=\"-394.8\">gini = 0.311</text>\n",
       "<text font-family=\"Times New Roman,serif\" font-size=\"14.00\" text-anchor=\"middle\" x=\"238.5\" y=\"-379.8\">samples = 26</text>\n",
       "<text font-family=\"Times New Roman,serif\" font-size=\"14.00\" text-anchor=\"middle\" x=\"238.5\" y=\"-364.8\">value = [5, 21]</text>\n",
       "<text font-family=\"Times New Roman,serif\" font-size=\"14.00\" text-anchor=\"middle\" x=\"238.5\" y=\"-349.8\">class = enfermo</text>\n",
       "</g>\n",
       "<!-- 3&#45;&gt;4 -->\n",
       "<g class=\"edge\" id=\"edge4\"><title>3-&gt;4</title>\n",
       "<path d=\"M324.703,-460.907C314.158,-451.56 302.85,-441.538 292.009,-431.929\" fill=\"none\" stroke=\"black\"/>\n",
       "<polygon fill=\"black\" points=\"294.021,-429.035 284.216,-425.021 289.378,-434.273 294.021,-429.035\" stroke=\"black\"/>\n",
       "</g>\n",
       "<!-- 11 -->\n",
       "<g class=\"node\" id=\"node12\"><title>11</title>\n",
       "<polygon fill=\"#f1b991\" points=\"426,-417.5 315,-417.5 315,-349.5 426,-349.5 426,-417.5\" stroke=\"black\"/>\n",
       "<text font-family=\"Times New Roman,serif\" font-size=\"14.00\" text-anchor=\"middle\" x=\"370.5\" y=\"-402.3\">gini = 0.426</text>\n",
       "<text font-family=\"Times New Roman,serif\" font-size=\"14.00\" text-anchor=\"middle\" x=\"370.5\" y=\"-387.3\">samples = 13</text>\n",
       "<text font-family=\"Times New Roman,serif\" font-size=\"14.00\" text-anchor=\"middle\" x=\"370.5\" y=\"-372.3\">value = [9, 4]</text>\n",
       "<text font-family=\"Times New Roman,serif\" font-size=\"14.00\" text-anchor=\"middle\" x=\"370.5\" y=\"-357.3\">class = no fermo</text>\n",
       "</g>\n",
       "<!-- 3&#45;&gt;11 -->\n",
       "<g class=\"edge\" id=\"edge11\"><title>3-&gt;11</title>\n",
       "<path d=\"M370.5,-460.907C370.5,-450.204 370.5,-438.615 370.5,-427.776\" fill=\"none\" stroke=\"black\"/>\n",
       "<polygon fill=\"black\" points=\"374,-427.667 370.5,-417.667 367,-427.667 374,-427.667\" stroke=\"black\"/>\n",
       "</g>\n",
       "<!-- 5 -->\n",
       "<g class=\"node\" id=\"node6\"><title>5</title>\n",
       "<polygon fill=\"#5fb0ea\" points=\"171.5,-306 65.5,-306 65.5,-223 171.5,-223 171.5,-306\" stroke=\"black\"/>\n",
       "<text font-family=\"Times New Roman,serif\" font-size=\"14.00\" text-anchor=\"middle\" x=\"118.5\" y=\"-290.8\">chol &lt;= 162.0</text>\n",
       "<text font-family=\"Times New Roman,serif\" font-size=\"14.00\" text-anchor=\"middle\" x=\"118.5\" y=\"-275.8\">gini = 0.269</text>\n",
       "<text font-family=\"Times New Roman,serif\" font-size=\"14.00\" text-anchor=\"middle\" x=\"118.5\" y=\"-260.8\">samples = 25</text>\n",
       "<text font-family=\"Times New Roman,serif\" font-size=\"14.00\" text-anchor=\"middle\" x=\"118.5\" y=\"-245.8\">value = [4, 21]</text>\n",
       "<text font-family=\"Times New Roman,serif\" font-size=\"14.00\" text-anchor=\"middle\" x=\"118.5\" y=\"-230.8\">class = enfermo</text>\n",
       "</g>\n",
       "<!-- 4&#45;&gt;5 -->\n",
       "<g class=\"edge\" id=\"edge5\"><title>4-&gt;5</title>\n",
       "<path d=\"M196.867,-341.907C187.373,-332.651 177.2,-322.732 167.432,-313.209\" fill=\"none\" stroke=\"black\"/>\n",
       "<polygon fill=\"black\" points=\"169.663,-310.496 160.06,-306.021 164.776,-315.508 169.663,-310.496\" stroke=\"black\"/>\n",
       "</g>\n",
       "<!-- 10 -->\n",
       "<g class=\"node\" id=\"node11\"><title>10</title>\n",
       "<polygon fill=\"#e58139\" points=\"301,-298.5 190,-298.5 190,-230.5 301,-230.5 301,-298.5\" stroke=\"black\"/>\n",
       "<text font-family=\"Times New Roman,serif\" font-size=\"14.00\" text-anchor=\"middle\" x=\"245.5\" y=\"-283.3\">gini = 0.0</text>\n",
       "<text font-family=\"Times New Roman,serif\" font-size=\"14.00\" text-anchor=\"middle\" x=\"245.5\" y=\"-268.3\">samples = 1</text>\n",
       "<text font-family=\"Times New Roman,serif\" font-size=\"14.00\" text-anchor=\"middle\" x=\"245.5\" y=\"-253.3\">value = [1, 0]</text>\n",
       "<text font-family=\"Times New Roman,serif\" font-size=\"14.00\" text-anchor=\"middle\" x=\"245.5\" y=\"-238.3\">class = no fermo</text>\n",
       "</g>\n",
       "<!-- 4&#45;&gt;10 -->\n",
       "<g class=\"edge\" id=\"edge10\"><title>4-&gt;10</title>\n",
       "<path d=\"M240.929,-341.907C241.569,-331.204 242.262,-319.615 242.911,-308.776\" fill=\"none\" stroke=\"black\"/>\n",
       "<polygon fill=\"black\" points=\"246.412,-308.858 243.516,-298.667 239.425,-308.44 246.412,-308.858\" stroke=\"black\"/>\n",
       "</g>\n",
       "<!-- 6 -->\n",
       "<g class=\"node\" id=\"node7\"><title>6</title>\n",
       "<polygon fill=\"#e58139\" points=\"111,-179.5 0,-179.5 0,-111.5 111,-111.5 111,-179.5\" stroke=\"black\"/>\n",
       "<text font-family=\"Times New Roman,serif\" font-size=\"14.00\" text-anchor=\"middle\" x=\"55.5\" y=\"-164.3\">gini = 0.0</text>\n",
       "<text font-family=\"Times New Roman,serif\" font-size=\"14.00\" text-anchor=\"middle\" x=\"55.5\" y=\"-149.3\">samples = 1</text>\n",
       "<text font-family=\"Times New Roman,serif\" font-size=\"14.00\" text-anchor=\"middle\" x=\"55.5\" y=\"-134.3\">value = [1, 0]</text>\n",
       "<text font-family=\"Times New Roman,serif\" font-size=\"14.00\" text-anchor=\"middle\" x=\"55.5\" y=\"-119.3\">class = no fermo</text>\n",
       "</g>\n",
       "<!-- 5&#45;&gt;6 -->\n",
       "<g class=\"edge\" id=\"edge6\"><title>5-&gt;6</title>\n",
       "<path d=\"M96.6425,-222.907C90.7008,-211.873 84.2526,-199.898 78.2622,-188.773\" fill=\"none\" stroke=\"black\"/>\n",
       "<polygon fill=\"black\" points=\"81.1818,-186.812 73.3591,-179.667 75.0185,-190.131 81.1818,-186.812\" stroke=\"black\"/>\n",
       "</g>\n",
       "<!-- 7 -->\n",
       "<g class=\"node\" id=\"node8\"><title>7</title>\n",
       "<polygon fill=\"#55abe9\" points=\"235.5,-187 129.5,-187 129.5,-104 235.5,-104 235.5,-187\" stroke=\"black\"/>\n",
       "<text font-family=\"Times New Roman,serif\" font-size=\"14.00\" text-anchor=\"middle\" x=\"182.5\" y=\"-171.8\">cp_2 &lt;= 0.5</text>\n",
       "<text font-family=\"Times New Roman,serif\" font-size=\"14.00\" text-anchor=\"middle\" x=\"182.5\" y=\"-156.8\">gini = 0.219</text>\n",
       "<text font-family=\"Times New Roman,serif\" font-size=\"14.00\" text-anchor=\"middle\" x=\"182.5\" y=\"-141.8\">samples = 24</text>\n",
       "<text font-family=\"Times New Roman,serif\" font-size=\"14.00\" text-anchor=\"middle\" x=\"182.5\" y=\"-126.8\">value = [3, 21]</text>\n",
       "<text font-family=\"Times New Roman,serif\" font-size=\"14.00\" text-anchor=\"middle\" x=\"182.5\" y=\"-111.8\">class = enfermo</text>\n",
       "</g>\n",
       "<!-- 5&#45;&gt;7 -->\n",
       "<g class=\"edge\" id=\"edge7\"><title>5-&gt;7</title>\n",
       "<path d=\"M140.704,-222.907C145.47,-214.195 150.556,-204.897 155.481,-195.893\" fill=\"none\" stroke=\"black\"/>\n",
       "<polygon fill=\"black\" points=\"158.606,-197.474 160.335,-187.021 152.465,-194.114 158.606,-197.474\" stroke=\"black\"/>\n",
       "</g>\n",
       "<!-- 8 -->\n",
       "<g class=\"node\" id=\"node9\"><title>8</title>\n",
       "<polygon fill=\"#8ec7f0\" points=\"173.5,-68 67.5,-68 67.5,-0 173.5,-0 173.5,-68\" stroke=\"black\"/>\n",
       "<text font-family=\"Times New Roman,serif\" font-size=\"14.00\" text-anchor=\"middle\" x=\"120.5\" y=\"-52.8\">gini = 0.42</text>\n",
       "<text font-family=\"Times New Roman,serif\" font-size=\"14.00\" text-anchor=\"middle\" x=\"120.5\" y=\"-37.8\">samples = 10</text>\n",
       "<text font-family=\"Times New Roman,serif\" font-size=\"14.00\" text-anchor=\"middle\" x=\"120.5\" y=\"-22.8\">value = [3, 7]</text>\n",
       "<text font-family=\"Times New Roman,serif\" font-size=\"14.00\" text-anchor=\"middle\" x=\"120.5\" y=\"-7.8\">class = enfermo</text>\n",
       "</g>\n",
       "<!-- 7&#45;&gt;8 -->\n",
       "<g class=\"edge\" id=\"edge8\"><title>7-&gt;8</title>\n",
       "<path d=\"M159.413,-103.726C154.507,-95.0615 149.318,-85.8962 144.383,-77.1802\" fill=\"none\" stroke=\"black\"/>\n",
       "<polygon fill=\"black\" points=\"147.327,-75.277 139.355,-68.2996 141.236,-78.726 147.327,-75.277\" stroke=\"black\"/>\n",
       "</g>\n",
       "<!-- 9 -->\n",
       "<g class=\"node\" id=\"node10\"><title>9</title>\n",
       "<polygon fill=\"#399de5\" points=\"297.5,-68 191.5,-68 191.5,-0 297.5,-0 297.5,-68\" stroke=\"black\"/>\n",
       "<text font-family=\"Times New Roman,serif\" font-size=\"14.00\" text-anchor=\"middle\" x=\"244.5\" y=\"-52.8\">gini = 0.0</text>\n",
       "<text font-family=\"Times New Roman,serif\" font-size=\"14.00\" text-anchor=\"middle\" x=\"244.5\" y=\"-37.8\">samples = 14</text>\n",
       "<text font-family=\"Times New Roman,serif\" font-size=\"14.00\" text-anchor=\"middle\" x=\"244.5\" y=\"-22.8\">value = [0, 14]</text>\n",
       "<text font-family=\"Times New Roman,serif\" font-size=\"14.00\" text-anchor=\"middle\" x=\"244.5\" y=\"-7.8\">class = enfermo</text>\n",
       "</g>\n",
       "<!-- 7&#45;&gt;9 -->\n",
       "<g class=\"edge\" id=\"edge9\"><title>7-&gt;9</title>\n",
       "<path d=\"M205.587,-103.726C210.493,-95.0615 215.682,-85.8962 220.617,-77.1802\" fill=\"none\" stroke=\"black\"/>\n",
       "<polygon fill=\"black\" points=\"223.764,-78.726 225.645,-68.2996 217.673,-75.277 223.764,-78.726\" stroke=\"black\"/>\n",
       "</g>\n",
       "<!-- 13 -->\n",
       "<g class=\"node\" id=\"node14\"><title>13</title>\n",
       "<polygon fill=\"#3fa0e6\" points=\"560.5,-425 444.5,-425 444.5,-342 560.5,-342 560.5,-425\" stroke=\"black\"/>\n",
       "<text font-family=\"Times New Roman,serif\" font-size=\"14.00\" text-anchor=\"middle\" x=\"502.5\" y=\"-409.8\">trestbps &lt;= 111.0</text>\n",
       "<text font-family=\"Times New Roman,serif\" font-size=\"14.00\" text-anchor=\"middle\" x=\"502.5\" y=\"-394.8\">gini = 0.06</text>\n",
       "<text font-family=\"Times New Roman,serif\" font-size=\"14.00\" text-anchor=\"middle\" x=\"502.5\" y=\"-379.8\">samples = 65</text>\n",
       "<text font-family=\"Times New Roman,serif\" font-size=\"14.00\" text-anchor=\"middle\" x=\"502.5\" y=\"-364.8\">value = [2, 63]</text>\n",
       "<text font-family=\"Times New Roman,serif\" font-size=\"14.00\" text-anchor=\"middle\" x=\"502.5\" y=\"-349.8\">class = enfermo</text>\n",
       "</g>\n",
       "<!-- 12&#45;&gt;13 -->\n",
       "<g class=\"edge\" id=\"edge13\"><title>12-&gt;13</title>\n",
       "<path d=\"M512.296,-460.907C511.225,-452.558 510.086,-443.671 508.977,-435.02\" fill=\"none\" stroke=\"black\"/>\n",
       "<polygon fill=\"black\" points=\"512.438,-434.495 507.695,-425.021 505.495,-435.385 512.438,-434.495\" stroke=\"black\"/>\n",
       "</g>\n",
       "<!-- 16 -->\n",
       "<g class=\"node\" id=\"node17\"><title>16</title>\n",
       "<polygon fill=\"#70b8ec\" points=\"684.5,-425 578.5,-425 578.5,-342 684.5,-342 684.5,-425\" stroke=\"black\"/>\n",
       "<text font-family=\"Times New Roman,serif\" font-size=\"14.00\" text-anchor=\"middle\" x=\"631.5\" y=\"-409.8\">chol &lt;= 256.5</text>\n",
       "<text font-family=\"Times New Roman,serif\" font-size=\"14.00\" text-anchor=\"middle\" x=\"631.5\" y=\"-394.8\">gini = 0.34</text>\n",
       "<text font-family=\"Times New Roman,serif\" font-size=\"14.00\" text-anchor=\"middle\" x=\"631.5\" y=\"-379.8\">samples = 23</text>\n",
       "<text font-family=\"Times New Roman,serif\" font-size=\"14.00\" text-anchor=\"middle\" x=\"631.5\" y=\"-364.8\">value = [5, 18]</text>\n",
       "<text font-family=\"Times New Roman,serif\" font-size=\"14.00\" text-anchor=\"middle\" x=\"631.5\" y=\"-349.8\">class = enfermo</text>\n",
       "</g>\n",
       "<!-- 12&#45;&gt;16 -->\n",
       "<g class=\"edge\" id=\"edge16\"><title>12-&gt;16</title>\n",
       "<path d=\"M557.052,-460.907C566.071,-451.651 575.735,-441.732 585.014,-432.209\" fill=\"none\" stroke=\"black\"/>\n",
       "<polygon fill=\"black\" points=\"587.546,-434.626 592.018,-425.021 582.533,-429.741 587.546,-434.626\" stroke=\"black\"/>\n",
       "</g>\n",
       "<!-- 14 -->\n",
       "<g class=\"node\" id=\"node15\"><title>14</title>\n",
       "<polygon fill=\"#6ab6ec\" points=\"433.5,-298.5 327.5,-298.5 327.5,-230.5 433.5,-230.5 433.5,-298.5\" stroke=\"black\"/>\n",
       "<text font-family=\"Times New Roman,serif\" font-size=\"14.00\" text-anchor=\"middle\" x=\"380.5\" y=\"-283.3\">gini = 0.32</text>\n",
       "<text font-family=\"Times New Roman,serif\" font-size=\"14.00\" text-anchor=\"middle\" x=\"380.5\" y=\"-268.3\">samples = 10</text>\n",
       "<text font-family=\"Times New Roman,serif\" font-size=\"14.00\" text-anchor=\"middle\" x=\"380.5\" y=\"-253.3\">value = [2, 8]</text>\n",
       "<text font-family=\"Times New Roman,serif\" font-size=\"14.00\" text-anchor=\"middle\" x=\"380.5\" y=\"-238.3\">class = enfermo</text>\n",
       "</g>\n",
       "<!-- 13&#45;&gt;14 -->\n",
       "<g class=\"edge\" id=\"edge14\"><title>13-&gt;14</title>\n",
       "<path d=\"M460.173,-341.907C447.976,-330.211 434.678,-317.457 422.501,-305.78\" fill=\"none\" stroke=\"black\"/>\n",
       "<polygon fill=\"black\" points=\"424.724,-303.062 415.084,-298.667 419.879,-308.115 424.724,-303.062\" stroke=\"black\"/>\n",
       "</g>\n",
       "<!-- 15 -->\n",
       "<g class=\"node\" id=\"node16\"><title>15</title>\n",
       "<polygon fill=\"#399de5\" points=\"557.5,-298.5 451.5,-298.5 451.5,-230.5 557.5,-230.5 557.5,-298.5\" stroke=\"black\"/>\n",
       "<text font-family=\"Times New Roman,serif\" font-size=\"14.00\" text-anchor=\"middle\" x=\"504.5\" y=\"-283.3\">gini = 0.0</text>\n",
       "<text font-family=\"Times New Roman,serif\" font-size=\"14.00\" text-anchor=\"middle\" x=\"504.5\" y=\"-268.3\">samples = 55</text>\n",
       "<text font-family=\"Times New Roman,serif\" font-size=\"14.00\" text-anchor=\"middle\" x=\"504.5\" y=\"-253.3\">value = [0, 55]</text>\n",
       "<text font-family=\"Times New Roman,serif\" font-size=\"14.00\" text-anchor=\"middle\" x=\"504.5\" y=\"-238.3\">class = enfermo</text>\n",
       "</g>\n",
       "<!-- 13&#45;&gt;15 -->\n",
       "<g class=\"edge\" id=\"edge15\"><title>13-&gt;15</title>\n",
       "<path d=\"M503.194,-341.907C503.377,-331.204 503.575,-319.615 503.76,-308.776\" fill=\"none\" stroke=\"black\"/>\n",
       "<polygon fill=\"black\" points=\"507.262,-308.725 503.933,-298.667 500.263,-308.606 507.262,-308.725\" stroke=\"black\"/>\n",
       "</g>\n",
       "<!-- 17 -->\n",
       "<g class=\"node\" id=\"node18\"><title>17</title>\n",
       "<polygon fill=\"#399de5\" points=\"682.5,-298.5 576.5,-298.5 576.5,-230.5 682.5,-230.5 682.5,-298.5\" stroke=\"black\"/>\n",
       "<text font-family=\"Times New Roman,serif\" font-size=\"14.00\" text-anchor=\"middle\" x=\"629.5\" y=\"-283.3\">gini = 0.0</text>\n",
       "<text font-family=\"Times New Roman,serif\" font-size=\"14.00\" text-anchor=\"middle\" x=\"629.5\" y=\"-268.3\">samples = 12</text>\n",
       "<text font-family=\"Times New Roman,serif\" font-size=\"14.00\" text-anchor=\"middle\" x=\"629.5\" y=\"-253.3\">value = [0, 12]</text>\n",
       "<text font-family=\"Times New Roman,serif\" font-size=\"14.00\" text-anchor=\"middle\" x=\"629.5\" y=\"-238.3\">class = enfermo</text>\n",
       "</g>\n",
       "<!-- 16&#45;&gt;17 -->\n",
       "<g class=\"edge\" id=\"edge17\"><title>16-&gt;17</title>\n",
       "<path d=\"M630.806,-341.907C630.623,-331.204 630.425,-319.615 630.24,-308.776\" fill=\"none\" stroke=\"black\"/>\n",
       "<polygon fill=\"black\" points=\"633.737,-308.606 630.067,-298.667 626.738,-308.725 633.737,-308.606\" stroke=\"black\"/>\n",
       "</g>\n",
       "<!-- 18 -->\n",
       "<g class=\"node\" id=\"node19\"><title>18</title>\n",
       "<polygon fill=\"#deeffb\" points=\"806.5,-298.5 700.5,-298.5 700.5,-230.5 806.5,-230.5 806.5,-298.5\" stroke=\"black\"/>\n",
       "<text font-family=\"Times New Roman,serif\" font-size=\"14.00\" text-anchor=\"middle\" x=\"753.5\" y=\"-283.3\">gini = 0.496</text>\n",
       "<text font-family=\"Times New Roman,serif\" font-size=\"14.00\" text-anchor=\"middle\" x=\"753.5\" y=\"-268.3\">samples = 11</text>\n",
       "<text font-family=\"Times New Roman,serif\" font-size=\"14.00\" text-anchor=\"middle\" x=\"753.5\" y=\"-253.3\">value = [5, 6]</text>\n",
       "<text font-family=\"Times New Roman,serif\" font-size=\"14.00\" text-anchor=\"middle\" x=\"753.5\" y=\"-238.3\">class = enfermo</text>\n",
       "</g>\n",
       "<!-- 16&#45;&gt;18 -->\n",
       "<g class=\"edge\" id=\"edge18\"><title>16-&gt;18</title>\n",
       "<path d=\"M673.827,-341.907C686.024,-330.211 699.322,-317.457 711.499,-305.78\" fill=\"none\" stroke=\"black\"/>\n",
       "<polygon fill=\"black\" points=\"714.121,-308.115 718.916,-298.667 709.276,-303.062 714.121,-308.115\" stroke=\"black\"/>\n",
       "</g>\n",
       "<!-- 21 -->\n",
       "<g class=\"node\" id=\"node22\"><title>21</title>\n",
       "<polygon fill=\"#e68843\" points=\"929.5,-663 813.5,-663 813.5,-580 929.5,-580 929.5,-663\" stroke=\"black\"/>\n",
       "<text font-family=\"Times New Roman,serif\" font-size=\"14.00\" text-anchor=\"middle\" x=\"871.5\" y=\"-647.8\">trestbps &lt;= 109.0</text>\n",
       "<text font-family=\"Times New Roman,serif\" font-size=\"14.00\" text-anchor=\"middle\" x=\"871.5\" y=\"-632.8\">gini = 0.095</text>\n",
       "<text font-family=\"Times New Roman,serif\" font-size=\"14.00\" text-anchor=\"middle\" x=\"871.5\" y=\"-617.8\">samples = 60</text>\n",
       "<text font-family=\"Times New Roman,serif\" font-size=\"14.00\" text-anchor=\"middle\" x=\"871.5\" y=\"-602.8\">value = [57, 3]</text>\n",
       "<text font-family=\"Times New Roman,serif\" font-size=\"14.00\" text-anchor=\"middle\" x=\"871.5\" y=\"-587.8\">class = no fermo</text>\n",
       "</g>\n",
       "<!-- 20&#45;&gt;21 -->\n",
       "<g class=\"edge\" id=\"edge21\"><title>20-&gt;21</title>\n",
       "<path d=\"M871.5,-698.907C871.5,-690.649 871.5,-681.864 871.5,-673.302\" fill=\"none\" stroke=\"black\"/>\n",
       "<polygon fill=\"black\" points=\"875,-673.021 871.5,-663.021 868,-673.021 875,-673.021\" stroke=\"black\"/>\n",
       "</g>\n",
       "<!-- 26 -->\n",
       "<g class=\"node\" id=\"node27\"><title>26</title>\n",
       "<polygon fill=\"#f7fbfe\" points=\"1084.5,-663 978.5,-663 978.5,-580 1084.5,-580 1084.5,-663\" stroke=\"black\"/>\n",
       "<text font-family=\"Times New Roman,serif\" font-size=\"14.00\" text-anchor=\"middle\" x=\"1031.5\" y=\"-647.8\">oldpeak &lt;= 0.7</text>\n",
       "<text font-family=\"Times New Roman,serif\" font-size=\"14.00\" text-anchor=\"middle\" x=\"1031.5\" y=\"-632.8\">gini = 0.5</text>\n",
       "<text font-family=\"Times New Roman,serif\" font-size=\"14.00\" text-anchor=\"middle\" x=\"1031.5\" y=\"-617.8\">samples = 47</text>\n",
       "<text font-family=\"Times New Roman,serif\" font-size=\"14.00\" text-anchor=\"middle\" x=\"1031.5\" y=\"-602.8\">value = [23, 24]</text>\n",
       "<text font-family=\"Times New Roman,serif\" font-size=\"14.00\" text-anchor=\"middle\" x=\"1031.5\" y=\"-587.8\">class = enfermo</text>\n",
       "</g>\n",
       "<!-- 20&#45;&gt;26 -->\n",
       "<g class=\"edge\" id=\"edge26\"><title>20-&gt;26</title>\n",
       "<path d=\"M927.011,-698.907C940.894,-688.756 955.866,-677.808 970.019,-667.458\" fill=\"none\" stroke=\"black\"/>\n",
       "<polygon fill=\"black\" points=\"972.237,-670.172 978.243,-661.444 968.105,-664.522 972.237,-670.172\" stroke=\"black\"/>\n",
       "</g>\n",
       "<!-- 22 -->\n",
       "<g class=\"node\" id=\"node23\"><title>22</title>\n",
       "<polygon fill=\"#f6d5bd\" points=\"798,-536.5 687,-536.5 687,-468.5 798,-468.5 798,-536.5\" stroke=\"black\"/>\n",
       "<text font-family=\"Times New Roman,serif\" font-size=\"14.00\" text-anchor=\"middle\" x=\"742.5\" y=\"-521.3\">gini = 0.48</text>\n",
       "<text font-family=\"Times New Roman,serif\" font-size=\"14.00\" text-anchor=\"middle\" x=\"742.5\" y=\"-506.3\">samples = 5</text>\n",
       "<text font-family=\"Times New Roman,serif\" font-size=\"14.00\" text-anchor=\"middle\" x=\"742.5\" y=\"-491.3\">value = [3, 2]</text>\n",
       "<text font-family=\"Times New Roman,serif\" font-size=\"14.00\" text-anchor=\"middle\" x=\"742.5\" y=\"-476.3\">class = no fermo</text>\n",
       "</g>\n",
       "<!-- 21&#45;&gt;22 -->\n",
       "<g class=\"edge\" id=\"edge22\"><title>21-&gt;22</title>\n",
       "<path d=\"M826.744,-579.907C813.726,-568.101 799.521,-555.217 786.547,-543.45\" fill=\"none\" stroke=\"black\"/>\n",
       "<polygon fill=\"black\" points=\"788.827,-540.793 779.069,-536.667 784.125,-545.978 788.827,-540.793\" stroke=\"black\"/>\n",
       "</g>\n",
       "<!-- 23 -->\n",
       "<g class=\"node\" id=\"node24\"><title>23</title>\n",
       "<polygon fill=\"#e5833d\" points=\"927,-544 816,-544 816,-461 927,-461 927,-544\" stroke=\"black\"/>\n",
       "<text font-family=\"Times New Roman,serif\" font-size=\"14.00\" text-anchor=\"middle\" x=\"871.5\" y=\"-528.8\">thalach &lt;= 105.5</text>\n",
       "<text font-family=\"Times New Roman,serif\" font-size=\"14.00\" text-anchor=\"middle\" x=\"871.5\" y=\"-513.8\">gini = 0.036</text>\n",
       "<text font-family=\"Times New Roman,serif\" font-size=\"14.00\" text-anchor=\"middle\" x=\"871.5\" y=\"-498.8\">samples = 55</text>\n",
       "<text font-family=\"Times New Roman,serif\" font-size=\"14.00\" text-anchor=\"middle\" x=\"871.5\" y=\"-483.8\">value = [54, 1]</text>\n",
       "<text font-family=\"Times New Roman,serif\" font-size=\"14.00\" text-anchor=\"middle\" x=\"871.5\" y=\"-468.8\">class = no fermo</text>\n",
       "</g>\n",
       "<!-- 21&#45;&gt;23 -->\n",
       "<g class=\"edge\" id=\"edge23\"><title>21-&gt;23</title>\n",
       "<path d=\"M871.5,-579.907C871.5,-571.649 871.5,-562.864 871.5,-554.302\" fill=\"none\" stroke=\"black\"/>\n",
       "<polygon fill=\"black\" points=\"875,-554.021 871.5,-544.021 868,-554.021 875,-554.021\" stroke=\"black\"/>\n",
       "</g>\n",
       "<!-- 24 -->\n",
       "<g class=\"node\" id=\"node25\"><title>24</title>\n",
       "<polygon fill=\"#e9965a\" points=\"814,-417.5 703,-417.5 703,-349.5 814,-349.5 814,-417.5\" stroke=\"black\"/>\n",
       "<text font-family=\"Times New Roman,serif\" font-size=\"14.00\" text-anchor=\"middle\" x=\"758.5\" y=\"-402.3\">gini = 0.245</text>\n",
       "<text font-family=\"Times New Roman,serif\" font-size=\"14.00\" text-anchor=\"middle\" x=\"758.5\" y=\"-387.3\">samples = 7</text>\n",
       "<text font-family=\"Times New Roman,serif\" font-size=\"14.00\" text-anchor=\"middle\" x=\"758.5\" y=\"-372.3\">value = [6, 1]</text>\n",
       "<text font-family=\"Times New Roman,serif\" font-size=\"14.00\" text-anchor=\"middle\" x=\"758.5\" y=\"-357.3\">class = no fermo</text>\n",
       "</g>\n",
       "<!-- 23&#45;&gt;24 -->\n",
       "<g class=\"edge\" id=\"edge24\"><title>23-&gt;24</title>\n",
       "<path d=\"M832.295,-460.907C821.105,-449.321 808.913,-436.698 797.722,-425.111\" fill=\"none\" stroke=\"black\"/>\n",
       "<polygon fill=\"black\" points=\"799.998,-422.428 790.533,-417.667 794.963,-427.291 799.998,-422.428\" stroke=\"black\"/>\n",
       "</g>\n",
       "<!-- 25 -->\n",
       "<g class=\"node\" id=\"node26\"><title>25</title>\n",
       "<polygon fill=\"#e58139\" points=\"943,-417.5 832,-417.5 832,-349.5 943,-349.5 943,-417.5\" stroke=\"black\"/>\n",
       "<text font-family=\"Times New Roman,serif\" font-size=\"14.00\" text-anchor=\"middle\" x=\"887.5\" y=\"-402.3\">gini = 0.0</text>\n",
       "<text font-family=\"Times New Roman,serif\" font-size=\"14.00\" text-anchor=\"middle\" x=\"887.5\" y=\"-387.3\">samples = 48</text>\n",
       "<text font-family=\"Times New Roman,serif\" font-size=\"14.00\" text-anchor=\"middle\" x=\"887.5\" y=\"-372.3\">value = [48, 0]</text>\n",
       "<text font-family=\"Times New Roman,serif\" font-size=\"14.00\" text-anchor=\"middle\" x=\"887.5\" y=\"-357.3\">class = no fermo</text>\n",
       "</g>\n",
       "<!-- 23&#45;&gt;25 -->\n",
       "<g class=\"edge\" id=\"edge25\"><title>23-&gt;25</title>\n",
       "<path d=\"M877.051,-460.907C878.515,-450.204 880.1,-438.615 881.582,-427.776\" fill=\"none\" stroke=\"black\"/>\n",
       "<polygon fill=\"black\" points=\"885.077,-428.049 882.964,-417.667 878.142,-427.1 885.077,-428.049\" stroke=\"black\"/>\n",
       "</g>\n",
       "<!-- 27 -->\n",
       "<g class=\"node\" id=\"node28\"><title>27</title>\n",
       "<polygon fill=\"#73baed\" points=\"1084.5,-544 978.5,-544 978.5,-461 1084.5,-461 1084.5,-544\" stroke=\"black\"/>\n",
       "<text font-family=\"Times New Roman,serif\" font-size=\"14.00\" text-anchor=\"middle\" x=\"1031.5\" y=\"-528.8\">chol &lt;= 174.5</text>\n",
       "<text font-family=\"Times New Roman,serif\" font-size=\"14.00\" text-anchor=\"middle\" x=\"1031.5\" y=\"-513.8\">gini = 0.351</text>\n",
       "<text font-family=\"Times New Roman,serif\" font-size=\"14.00\" text-anchor=\"middle\" x=\"1031.5\" y=\"-498.8\">samples = 22</text>\n",
       "<text font-family=\"Times New Roman,serif\" font-size=\"14.00\" text-anchor=\"middle\" x=\"1031.5\" y=\"-483.8\">value = [5, 17]</text>\n",
       "<text font-family=\"Times New Roman,serif\" font-size=\"14.00\" text-anchor=\"middle\" x=\"1031.5\" y=\"-468.8\">class = enfermo</text>\n",
       "</g>\n",
       "<!-- 26&#45;&gt;27 -->\n",
       "<g class=\"edge\" id=\"edge27\"><title>26-&gt;27</title>\n",
       "<path d=\"M1031.5,-579.907C1031.5,-571.649 1031.5,-562.864 1031.5,-554.302\" fill=\"none\" stroke=\"black\"/>\n",
       "<polygon fill=\"black\" points=\"1035,-554.021 1031.5,-544.021 1028,-554.021 1035,-554.021\" stroke=\"black\"/>\n",
       "</g>\n",
       "<!-- 32 -->\n",
       "<g class=\"node\" id=\"node33\"><title>32</title>\n",
       "<polygon fill=\"#efb286\" points=\"1327,-544 1216,-544 1216,-461 1327,-461 1327,-544\" stroke=\"black\"/>\n",
       "<text font-family=\"Times New Roman,serif\" font-size=\"14.00\" text-anchor=\"middle\" x=\"1271.5\" y=\"-528.8\">thal_3 &lt;= 0.5</text>\n",
       "<text font-family=\"Times New Roman,serif\" font-size=\"14.00\" text-anchor=\"middle\" x=\"1271.5\" y=\"-513.8\">gini = 0.403</text>\n",
       "<text font-family=\"Times New Roman,serif\" font-size=\"14.00\" text-anchor=\"middle\" x=\"1271.5\" y=\"-498.8\">samples = 25</text>\n",
       "<text font-family=\"Times New Roman,serif\" font-size=\"14.00\" text-anchor=\"middle\" x=\"1271.5\" y=\"-483.8\">value = [18, 7]</text>\n",
       "<text font-family=\"Times New Roman,serif\" font-size=\"14.00\" text-anchor=\"middle\" x=\"1271.5\" y=\"-468.8\">class = no fermo</text>\n",
       "</g>\n",
       "<!-- 26&#45;&gt;32 -->\n",
       "<g class=\"edge\" id=\"edge32\"><title>26-&gt;32</title>\n",
       "<path d=\"M1084.76,-594.534C1120.82,-576.958 1168.65,-553.637 1206.88,-535\" fill=\"none\" stroke=\"black\"/>\n",
       "<polygon fill=\"black\" points=\"1208.43,-538.141 1215.88,-530.613 1205.36,-531.849 1208.43,-538.141\" stroke=\"black\"/>\n",
       "</g>\n",
       "<!-- 28 -->\n",
       "<g class=\"node\" id=\"node29\"><title>28</title>\n",
       "<polygon fill=\"#e58139\" points=\"1072,-417.5 961,-417.5 961,-349.5 1072,-349.5 1072,-417.5\" stroke=\"black\"/>\n",
       "<text font-family=\"Times New Roman,serif\" font-size=\"14.00\" text-anchor=\"middle\" x=\"1016.5\" y=\"-402.3\">gini = 0.0</text>\n",
       "<text font-family=\"Times New Roman,serif\" font-size=\"14.00\" text-anchor=\"middle\" x=\"1016.5\" y=\"-387.3\">samples = 1</text>\n",
       "<text font-family=\"Times New Roman,serif\" font-size=\"14.00\" text-anchor=\"middle\" x=\"1016.5\" y=\"-372.3\">value = [1, 0]</text>\n",
       "<text font-family=\"Times New Roman,serif\" font-size=\"14.00\" text-anchor=\"middle\" x=\"1016.5\" y=\"-357.3\">class = no fermo</text>\n",
       "</g>\n",
       "<!-- 27&#45;&gt;28 -->\n",
       "<g class=\"edge\" id=\"edge28\"><title>27-&gt;28</title>\n",
       "<path d=\"M1026.3,-460.907C1024.92,-450.204 1023.44,-438.615 1022.05,-427.776\" fill=\"none\" stroke=\"black\"/>\n",
       "<polygon fill=\"black\" points=\"1025.5,-427.141 1020.75,-417.667 1018.55,-428.031 1025.5,-427.141\" stroke=\"black\"/>\n",
       "</g>\n",
       "<!-- 29 -->\n",
       "<g class=\"node\" id=\"node30\"><title>29</title>\n",
       "<polygon fill=\"#68b4eb\" points=\"1200.5,-425 1090.5,-425 1090.5,-342 1200.5,-342 1200.5,-425\" stroke=\"black\"/>\n",
       "<text font-family=\"Times New Roman,serif\" font-size=\"14.00\" text-anchor=\"middle\" x=\"1145.5\" y=\"-409.8\">thalach &lt;= 145.5</text>\n",
       "<text font-family=\"Times New Roman,serif\" font-size=\"14.00\" text-anchor=\"middle\" x=\"1145.5\" y=\"-394.8\">gini = 0.308</text>\n",
       "<text font-family=\"Times New Roman,serif\" font-size=\"14.00\" text-anchor=\"middle\" x=\"1145.5\" y=\"-379.8\">samples = 21</text>\n",
       "<text font-family=\"Times New Roman,serif\" font-size=\"14.00\" text-anchor=\"middle\" x=\"1145.5\" y=\"-364.8\">value = [4, 17]</text>\n",
       "<text font-family=\"Times New Roman,serif\" font-size=\"14.00\" text-anchor=\"middle\" x=\"1145.5\" y=\"-349.8\">class = enfermo</text>\n",
       "</g>\n",
       "<!-- 27&#45;&gt;29 -->\n",
       "<g class=\"edge\" id=\"edge29\"><title>27-&gt;29</title>\n",
       "<path d=\"M1071.05,-460.907C1080.07,-451.651 1089.74,-441.732 1099.01,-432.209\" fill=\"none\" stroke=\"black\"/>\n",
       "<polygon fill=\"black\" points=\"1101.55,-434.626 1106.02,-425.021 1096.53,-429.741 1101.55,-434.626\" stroke=\"black\"/>\n",
       "</g>\n",
       "<!-- 30 -->\n",
       "<g class=\"node\" id=\"node31\"><title>30</title>\n",
       "<polygon fill=\"#ffffff\" points=\"1137,-298.5 1026,-298.5 1026,-230.5 1137,-230.5 1137,-298.5\" stroke=\"black\"/>\n",
       "<text font-family=\"Times New Roman,serif\" font-size=\"14.00\" text-anchor=\"middle\" x=\"1081.5\" y=\"-283.3\">gini = 0.5</text>\n",
       "<text font-family=\"Times New Roman,serif\" font-size=\"14.00\" text-anchor=\"middle\" x=\"1081.5\" y=\"-268.3\">samples = 6</text>\n",
       "<text font-family=\"Times New Roman,serif\" font-size=\"14.00\" text-anchor=\"middle\" x=\"1081.5\" y=\"-253.3\">value = [3, 3]</text>\n",
       "<text font-family=\"Times New Roman,serif\" font-size=\"14.00\" text-anchor=\"middle\" x=\"1081.5\" y=\"-238.3\">class = no fermo</text>\n",
       "</g>\n",
       "<!-- 29&#45;&gt;30 -->\n",
       "<g class=\"edge\" id=\"edge30\"><title>29-&gt;30</title>\n",
       "<path d=\"M1123.3,-341.907C1117.26,-330.873 1110.71,-318.898 1104.62,-307.773\" fill=\"none\" stroke=\"black\"/>\n",
       "<polygon fill=\"black\" points=\"1107.51,-305.76 1099.64,-298.667 1101.37,-309.12 1107.51,-305.76\" stroke=\"black\"/>\n",
       "</g>\n",
       "<!-- 31 -->\n",
       "<g class=\"node\" id=\"node32\"><title>31</title>\n",
       "<polygon fill=\"#47a4e7\" points=\"1261.5,-298.5 1155.5,-298.5 1155.5,-230.5 1261.5,-230.5 1261.5,-298.5\" stroke=\"black\"/>\n",
       "<text font-family=\"Times New Roman,serif\" font-size=\"14.00\" text-anchor=\"middle\" x=\"1208.5\" y=\"-283.3\">gini = 0.124</text>\n",
       "<text font-family=\"Times New Roman,serif\" font-size=\"14.00\" text-anchor=\"middle\" x=\"1208.5\" y=\"-268.3\">samples = 15</text>\n",
       "<text font-family=\"Times New Roman,serif\" font-size=\"14.00\" text-anchor=\"middle\" x=\"1208.5\" y=\"-253.3\">value = [1, 14]</text>\n",
       "<text font-family=\"Times New Roman,serif\" font-size=\"14.00\" text-anchor=\"middle\" x=\"1208.5\" y=\"-238.3\">class = enfermo</text>\n",
       "</g>\n",
       "<!-- 29&#45;&gt;31 -->\n",
       "<g class=\"edge\" id=\"edge31\"><title>29-&gt;31</title>\n",
       "<path d=\"M1167.36,-341.907C1173.3,-330.873 1179.75,-318.898 1185.74,-307.773\" fill=\"none\" stroke=\"black\"/>\n",
       "<polygon fill=\"black\" points=\"1188.98,-309.131 1190.64,-298.667 1182.82,-305.812 1188.98,-309.131\" stroke=\"black\"/>\n",
       "</g>\n",
       "<!-- 33 -->\n",
       "<g class=\"node\" id=\"node34\"><title>33</title>\n",
       "<polygon fill=\"#e3f1fb\" points=\"1324.5,-417.5 1218.5,-417.5 1218.5,-349.5 1324.5,-349.5 1324.5,-417.5\" stroke=\"black\"/>\n",
       "<text font-family=\"Times New Roman,serif\" font-size=\"14.00\" text-anchor=\"middle\" x=\"1271.5\" y=\"-402.3\">gini = 0.497</text>\n",
       "<text font-family=\"Times New Roman,serif\" font-size=\"14.00\" text-anchor=\"middle\" x=\"1271.5\" y=\"-387.3\">samples = 13</text>\n",
       "<text font-family=\"Times New Roman,serif\" font-size=\"14.00\" text-anchor=\"middle\" x=\"1271.5\" y=\"-372.3\">value = [6, 7]</text>\n",
       "<text font-family=\"Times New Roman,serif\" font-size=\"14.00\" text-anchor=\"middle\" x=\"1271.5\" y=\"-357.3\">class = enfermo</text>\n",
       "</g>\n",
       "<!-- 32&#45;&gt;33 -->\n",
       "<g class=\"edge\" id=\"edge33\"><title>32-&gt;33</title>\n",
       "<path d=\"M1271.5,-460.907C1271.5,-450.204 1271.5,-438.615 1271.5,-427.776\" fill=\"none\" stroke=\"black\"/>\n",
       "<polygon fill=\"black\" points=\"1275,-427.667 1271.5,-417.667 1268,-427.667 1275,-427.667\" stroke=\"black\"/>\n",
       "</g>\n",
       "<!-- 34 -->\n",
       "<g class=\"node\" id=\"node35\"><title>34</title>\n",
       "<polygon fill=\"#e58139\" points=\"1454,-417.5 1343,-417.5 1343,-349.5 1454,-349.5 1454,-417.5\" stroke=\"black\"/>\n",
       "<text font-family=\"Times New Roman,serif\" font-size=\"14.00\" text-anchor=\"middle\" x=\"1398.5\" y=\"-402.3\">gini = 0.0</text>\n",
       "<text font-family=\"Times New Roman,serif\" font-size=\"14.00\" text-anchor=\"middle\" x=\"1398.5\" y=\"-387.3\">samples = 12</text>\n",
       "<text font-family=\"Times New Roman,serif\" font-size=\"14.00\" text-anchor=\"middle\" x=\"1398.5\" y=\"-372.3\">value = [12, 0]</text>\n",
       "<text font-family=\"Times New Roman,serif\" font-size=\"14.00\" text-anchor=\"middle\" x=\"1398.5\" y=\"-357.3\">class = no fermo</text>\n",
       "</g>\n",
       "<!-- 32&#45;&gt;34 -->\n",
       "<g class=\"edge\" id=\"edge34\"><title>32-&gt;34</title>\n",
       "<path d=\"M1315.56,-460.907C1328.38,-449.101 1342.36,-436.217 1355.14,-424.45\" fill=\"none\" stroke=\"black\"/>\n",
       "<polygon fill=\"black\" points=\"1357.52,-427.017 1362.5,-417.667 1352.77,-421.868 1357.52,-427.017\" stroke=\"black\"/>\n",
       "</g>\n",
       "</g>\n",
       "</svg>"
      ],
      "text/plain": [
       "<IPython.core.display.SVG object>"
      ]
     },
     "metadata": {},
     "output_type": "display_data"
    }
   ],
   "source": [
    "class_names = ['no fermo','enfermo']\n",
    "features_heart_labels = x.columns\n",
    "\n",
    "graph = Source(tree.export_graphviz(model2, out_file=None,\n",
    "                                    feature_names=features_heart_labels, \n",
    "                                    class_names=class_names, filled = True))\n",
    "\n",
    "display(SVG(graph.pipe(format='svg')))"
   ]
  },
  {
   "cell_type": "markdown",
   "metadata": {},
   "source": [
    "#### Se tiene a evaluar las dos clases de la variable target (0: no enfermo, 1:enfermo), cada variable elegida para ser evaluada, cuando el gini sea cero o tienda a cerlo es más puro."
   ]
  },
  {
   "cell_type": "markdown",
   "metadata": {},
   "source": [
    "## Interpretación del modelo árbol de decisión "
   ]
  },
  {
   "cell_type": "markdown",
   "metadata": {},
   "source": [
    "El árbol de desición varia en su precisión dependiendo de su profundidad y las hojas que contiene este, a partir de ello y con la obtención de resultados mejores se realizan cambios en max_depth y min_samples_split.\n",
    "\n",
    "Con un maximo de profundidad en 11 y minimo de muestras a dividir en 20, se puede entrenar el árbol de decisión para que se obtenga precisión tanto en los datos de entrenamiento como de prueba superior al 70%.\n",
    "\n",
    "La precisión mostrada por la matriz de confusión llega a ser superior o igual a 70%, que da a entender que el modelo tiene un mayor número de aciertos en comparación con las fallas, en este sentido es un modelo bueno.\n"
   ]
  },
  {
   "cell_type": "markdown",
   "metadata": {},
   "source": [
    "# 9. Entrenamiento modelo de Naive Bayes "
   ]
  },
  {
   "cell_type": "code",
   "execution_count": 26,
   "metadata": {},
   "outputs": [
    {
     "name": "stdout",
     "output_type": "stream",
     "text": [
      "Entrenamiento:  0.8305785123966942\n",
      "Precisión matriz de confusión:  0.8305785123966942\n"
     ]
    },
    {
     "data": {
      "image/png": "[encoded data removed]",
      "text/plain": [
       "<Figure size 432x288 with 1 Axes>"
      ]
     },
     "metadata": {
      "needs_background": "light"
     },
     "output_type": "display_data"
    }
   ],
   "source": [
    "model_gnb = GaussianNB()\n",
    "model3 = model_gnb.fit(trainX, trainY)\n",
    "\n",
    "#Print the score on the train data\n",
    "print(\"Entrenamiento: \", model3.score(trainX, trainY))\n",
    "matrix1 = confusion_matrix(model3.predict(trainX), trainY)\n",
    "sns.heatmap(matrix1, annot=True, cmap=\"Blues\", fmt=\"d\", cbar=False)\n",
    "\n",
    "#Accuracy\n",
    "accuracy_traint_gnb = ((matrix1[0][0] + matrix1[1][1])/242)\n",
    "print(\"Precisión matriz de confusión: \", accuracy_traint_gnb)"
   ]
  },
  {
   "cell_type": "code",
   "execution_count": 27,
   "metadata": {},
   "outputs": [
    {
     "name": "stdout",
     "output_type": "stream",
     "text": [
      "Prueba:  0.8852459016393442\n",
      "Precisión matriz de confusión:  0.8852459016393442\n"
     ]
    },
    {
     "data": {
      "image/png": "[encoded data removed]",
      "text/plain": [
       "<Figure size 432x288 with 1 Axes>"
      ]
     },
     "metadata": {
      "needs_background": "light"
     },
     "output_type": "display_data"
    }
   ],
   "source": [
    "#Print the score on the test data\n",
    "print(\"Prueba: \", model3.score(testX, testY))\n",
    "matrix2 = confusion_matrix(model3.predict(testX), testY)\n",
    "sns.heatmap(matrix2, annot=True, cmap=\"Blues\", fmt=\"d\", cbar=False)\n",
    "\n",
    "#Accuracy\n",
    "accuracy_test_gnb = ((matrix2[0][0] + matrix2[1][1])/61)\n",
    "print(\"Precisión matriz de confusión: \", accuracy_test_gnb)"
   ]
  },
  {
   "cell_type": "markdown",
   "metadata": {},
   "source": [
    "## Interpretación del modelo obtenido "
   ]
  },
  {
   "cell_type": "markdown",
   "metadata": {},
   "source": [
    "El modelo Naive Bayes que genera una clasificación probabilistica de hipotesis, generada en este conjunto de registros y muestras una mayor cercania entre los conjuntos de entrenamiento y prueba. Una ventaja de este modelo es la rapidez del proceso de entrenamiento y test.\n",
    "\n",
    "La precisión mostrada por la matriz de confusión llega a ser superior o igual a 60%, esto da a entender que el modelo tiene un mayor número de aciertos en comparación con las fallas, en este sentido es un modelo bueno."
   ]
  },
  {
   "cell_type": "markdown",
   "metadata": {},
   "source": [
    "# 10. Entrenamiento modelo Red Neuronal"
   ]
  },
  {
   "cell_type": "code",
   "execution_count": 28,
   "metadata": {},
   "outputs": [
    {
     "name": "stdout",
     "output_type": "stream",
     "text": [
      "Entrenamiento:  0.7727272727272727\n",
      "Precisión matriz de confusión:  0.7727272727272727\n"
     ]
    },
    {
     "data": {
      "image/png": "[encoded data removed]",
      "text/plain": [
       "<Figure size 432x288 with 1 Axes>"
      ]
     },
     "metadata": {
      "needs_background": "light"
     },
     "output_type": "display_data"
    }
   ],
   "source": [
    "# NN is sensitive to data scale. We must normilize \n",
    "scaler = StandardScaler()  \n",
    "X_trainX = trainX.copy()\n",
    "X_testX = testX.copy()\n",
    "\n",
    "# Don't cheat - fit only on training data\n",
    "scaler.fit(trainX)\n",
    "\n",
    "X_trainX = scaler.transform(X_trainX)  \n",
    "# apply same transformation to test data\n",
    "X_testX = scaler.transform(X_testX)  \n",
    "\n",
    "modelNeuralNetwork = MLPClassifier(solver='lbfgs', alpha=1e-3, activation = 'relu', max_iter=5000,\n",
    "                     hidden_layer_sizes = (12,10,8,6,4,2), random_state=1, verbose = True)\n",
    "\n",
    "modelNeuralNetwork.fit(X_trainX, trainY)                         \n",
    "\n",
    "#Print the score on the train data\n",
    "print(\"Entrenamiento: \", modelNeuralNetwork.score(X_trainX, trainY))\n",
    "matrixNeuralNetwork1 = confusion_matrix(trainY, modelNeuralNetwork.predict(X_trainX))\n",
    "sns.heatmap(matrixNeuralNetwork1, annot=True, cmap=\"Blues\", fmt=\"d\", cbar=False)\n",
    "\n",
    "#Accuracy\n",
    "accuracy_traint_network = ((matrixNeuralNetwork1[0][0] + matrixNeuralNetwork1[1][1])/242)\n",
    "print(\"Precisión matriz de confusión: \", accuracy_traint_network)"
   ]
  },
  {
   "cell_type": "code",
   "execution_count": 29,
   "metadata": {},
   "outputs": [
    {
     "name": "stdout",
     "output_type": "stream",
     "text": [
      "Prueba:  0.7704918032786885\n",
      "Precisión matriz de confusión:  0.7704918032786885\n"
     ]
    },
    {
     "data": {
      "image/png": "[encoded data removed]",
      "text/plain": [
       "<Figure size 432x288 with 1 Axes>"
      ]
     },
     "metadata": {
      "needs_background": "light"
     },
     "output_type": "display_data"
    }
   ],
   "source": [
    "#Print the score on the test data\n",
    "print(\"Prueba: \", modelNeuralNetwork.score(X_testX, testY))\n",
    "matrixNeuralNetwork2 = confusion_matrix(testY, modelNeuralNetwork.predict(X_testX))\n",
    "sns.heatmap(matrixNeuralNetwork2, annot=True, cmap=\"Blues\", fmt=\"d\", cbar=False)\n",
    "\n",
    "#Accuracy\n",
    "accuracy_test_network = ((matrixNeuralNetwork2[0][0] + matrixNeuralNetwork2[1][1])/61)\n",
    "print(\"Precisión matriz de confusión: \", accuracy_test_network)"
   ]
  },
  {
   "cell_type": "markdown",
   "metadata": {},
   "source": [
    "## Interpretación del modelo obtenido "
   ]
  },
  {
   "cell_type": "markdown",
   "metadata": {},
   "source": [
    "La red neuronal genera una propagación por capas de los datos de entrada, esta propagación neurona por neurona genera una señal contribuyendo a generar el dato de salida y un error total generado a partir de todas las capas involucradas en el tratamiento de los datos.\n",
    "\n",
    "Las predicciones para los datos de entrenamiento y test son buenos dado dado que en ambos casos sobrepasan el 50%."
   ]
  },
  {
   "cell_type": "markdown",
   "metadata": {},
   "source": [
    "# 11. COMPARACIÓN DE LOS TRES MODELOS"
   ]
  },
  {
   "cell_type": "markdown",
   "metadata": {},
   "source": [
    "### Se busca que la precision sea alta"
   ]
  },
  {
   "cell_type": "code",
   "execution_count": 30,
   "metadata": {},
   "outputs": [
    {
     "name": "stdout",
     "output_type": "stream",
     "text": [
      "precision arbol de decision:  0.7377049180327869\n",
      "precision naive bayes:  0.8852459016393442\n",
      "precision red neuronal:  0.7704918032786885\n"
     ]
    }
   ],
   "source": [
    "print(\"precision arbol de decision: \",accuracy_test)\n",
    "print(\"precision naive bayes: \",accuracy_test_gnb)\n",
    "print(\"precision red neuronal: \",accuracy_test_network)"
   ]
  },
  {
   "cell_type": "markdown",
   "metadata": {},
   "source": [
    "###  Estabilidad"
   ]
  },
  {
   "cell_type": "code",
   "execution_count": 31,
   "metadata": {},
   "outputs": [
    {
     "name": "stdout",
     "output_type": "stream",
     "text": [
      "estabilidad arbol de decision:  14.659260262837023\n",
      "estabilidad naive bayes:  14.659260262837023\n",
      "estabilidad red neuronal:  0.22354694485841264\n"
     ]
    }
   ],
   "source": [
    "print(\"estabilidad arbol de decision: \",abs(model_tree.score(trainX, trainY)*100 - model_tree.score(testX, testY)*100))\n",
    "print(\"estabilidad naive bayes: \",abs(model2.score(trainX, trainY) * 100 - model2.score(testX, testY) * 100))\n",
    "print(\"estabilidad red neuronal: \",abs(modelNeuralNetwork.score(X_trainX, trainY)*100 - modelNeuralNetwork.score(X_testX, testY)*100))"
   ]
  },
  {
   "cell_type": "markdown",
   "metadata": {},
   "source": [
    "### Interpretabilidad "
   ]
  },
  {
   "cell_type": "markdown",
   "metadata": {},
   "source": [
    "Dado el conjunto de datos, se generan a partir de estos predicciones de las enfermedades relacionadas con el corazon, se generan los ajustes para que los resultados de estos modelos sean acordes con la finalidad que se espera, los resultados son buenos y no son muy distantes tanto en su precisión como en su estabilidad "
   ]
  },
  {
   "cell_type": "markdown",
   "metadata": {},
   "source": [
    "# CONCLUSIÓN"
   ]
  },
  {
   "cell_type": "markdown",
   "metadata": {},
   "source": [
    "Dado el conjunto de datos y vistos los resultados tanto de precisión como de estabilidad, para este caso y sus conjuntos de datos es recomendable usar el modelo de naive bayes, si observamos vemos que tiene la mayor precisión entre los tres modelos y una buena estabilidad.\n",
    "\n"
   ]
  },
  {
   "cell_type": "code",
   "execution_count": null,
   "metadata": {},
   "outputs": [],
   "source": []
  }
 ],
 "metadata": {
  "kernelspec": {
   "display_name": "Python 3",
   "language": "python",
   "name": "python3"
  },
  "language_info": {
   "codemirror_mode": {
    "name": "ipython",
    "version": 3
   },
   "file_extension": ".py",
   "mimetype": "text/x-python",
   "name": "python",
   "nbconvert_exporter": "python",
   "pygments_lexer": "ipython3",
   "version": "3.7.3"
  }
 },
 "nbformat": 4,
 "nbformat_minor": 2
}
